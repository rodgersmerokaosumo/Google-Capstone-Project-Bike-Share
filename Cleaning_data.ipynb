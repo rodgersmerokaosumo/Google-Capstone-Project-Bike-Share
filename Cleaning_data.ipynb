{
 "cells": [
  {
   "cell_type": "code",
   "execution_count": 27,
   "id": "2b59b846-df7c-480a-a18e-9b48449d38e6",
   "metadata": {},
   "outputs": [],
   "source": [
    "##libraries\n",
    "library(tidyverse)\n",
    "library(janitor)\n",
    "library(lubridate)\n",
    "library(readxl)\n",
    "library(writexl)"
   ]
  },
  {
   "cell_type": "code",
   "execution_count": 28,
   "id": "88217d05-193f-46a8-8357-32fa0ccaa5c8",
   "metadata": {},
   "outputs": [
    {
     "name": "stderr",
     "output_type": "stream",
     "text": [
      "\u001b[1mRows: \u001b[22m\u001b[34m759788\u001b[39m \u001b[1mColumns: \u001b[22m\u001b[34m12\u001b[39m\n",
      "\u001b[36m──\u001b[39m \u001b[1mColumn specification\u001b[22m \u001b[36m────────────────────────────────────────────────────────────────────────────────────────────────\u001b[39m\n",
      "\u001b[1mDelimiter:\u001b[22m \",\"\n",
      "\u001b[31mchr\u001b[39m  (4): from_station_name, to_station_name, usertype, gender\n",
      "\u001b[32mdbl\u001b[39m  (6): trip_id, bikeid, tripduration, from_station_id, to_station_id, bir...\n",
      "\u001b[34mdttm\u001b[39m (2): starttime, stoptime\n",
      "\n",
      "\u001b[36mℹ\u001b[39m Use `spec()` to retrieve the full column specification for this data.\n",
      "\u001b[36mℹ\u001b[39m Specify the column types or set `show_col_types = FALSE` to quiet this message.\n"
     ]
    }
   ],
   "source": [
    "#2013\n",
    "df_13 = read_csv(\"data\\\\Divvy_Stations_Trips_2013\\\\Divvy_Trips_2013.csv\")\n",
    "df_13 = df_13 %>% clean_names()\n",
    "df_13 = df_13 %>% rename(birthyear = birthday)"
   ]
  },
  {
   "cell_type": "code",
   "execution_count": 29,
   "id": "c297bf74-a960-4f59-bd88-708bab83edbc",
   "metadata": {},
   "outputs": [
    {
     "name": "stderr",
     "output_type": "stream",
     "text": [
      "\u001b[1mRows: \u001b[22m\u001b[34m410340\u001b[39m \u001b[1mColumns: \u001b[22m\u001b[34m12\u001b[39m\n",
      "\u001b[36m──\u001b[39m \u001b[1mColumn specification\u001b[22m \u001b[36m────────────────────────────────────────────────────────────────────────────────────────────────\u001b[39m\n",
      "\u001b[1mDelimiter:\u001b[22m \",\"\n",
      "\u001b[31mchr\u001b[39m (6): starttime, stoptime, from_station_name, to_station_name, usertype, ...\n",
      "\u001b[32mdbl\u001b[39m (6): trip_id, bikeid, tripduration, from_station_id, to_station_id, birt...\n",
      "\n",
      "\u001b[36mℹ\u001b[39m Use `spec()` to retrieve the full column specification for this data.\n",
      "\u001b[36mℹ\u001b[39m Specify the column types or set `show_col_types = FALSE` to quiet this message.\n",
      "\u001b[1mRows: \u001b[22m\u001b[34m700630\u001b[39m \u001b[1mColumns: \u001b[22m\u001b[34m12\u001b[39m\n",
      "\u001b[36m──\u001b[39m \u001b[1mColumn specification\u001b[22m \u001b[36m────────────────────────────────────────────────────────────────────────────────────────────────\u001b[39m\n",
      "\u001b[1mDelimiter:\u001b[22m \",\"\n",
      "\u001b[31mchr\u001b[39m (6): starttime, stoptime, from_station_name, to_station_name, usertype, ...\n",
      "\u001b[32mdbl\u001b[39m (6): trip_id, bikeid, tripduration, from_station_id, to_station_id, birt...\n",
      "\n",
      "\u001b[36mℹ\u001b[39m Use `spec()` to retrieve the full column specification for this data.\n",
      "\u001b[36mℹ\u001b[39m Specify the column types or set `show_col_types = FALSE` to quiet this message.\n",
      "\u001b[1mRows: \u001b[22m\u001b[34m905699\u001b[39m \u001b[1mColumns: \u001b[22m\u001b[34m12\u001b[39m\n",
      "\u001b[36m──\u001b[39m \u001b[1mColumn specification\u001b[22m \u001b[36m────────────────────────────────────────────────────────────────────────────────────────────────\u001b[39m\n",
      "\u001b[1mDelimiter:\u001b[22m \",\"\n",
      "\u001b[31mchr\u001b[39m (6): starttime, stoptime, from_station_name, to_station_name, usertype, ...\n",
      "\u001b[32mdbl\u001b[39m (6): trip_id, bikeid, tripduration, from_station_id, to_station_id, birt...\n",
      "\n",
      "\u001b[36mℹ\u001b[39m Use `spec()` to retrieve the full column specification for this data.\n",
      "\u001b[36mℹ\u001b[39m Specify the column types or set `show_col_types = FALSE` to quiet this message.\n",
      "\u001b[1mRows: \u001b[22m\u001b[34m437965\u001b[39m \u001b[1mColumns: \u001b[22m\u001b[34m12\u001b[39m\n",
      "\u001b[36m──\u001b[39m \u001b[1mColumn specification\u001b[22m \u001b[36m────────────────────────────────────────────────────────────────────────────────────────────────\u001b[39m\n",
      "\u001b[1mDelimiter:\u001b[22m \",\"\n",
      "\u001b[31mchr\u001b[39m (6): starttime, stoptime, from_station_name, to_station_name, usertype, ...\n",
      "\u001b[32mdbl\u001b[39m (6): trip_id, bikeid, tripduration, from_station_id, to_station_id, birt...\n",
      "\n",
      "\u001b[36mℹ\u001b[39m Use `spec()` to retrieve the full column specification for this data.\n",
      "\u001b[36mℹ\u001b[39m Specify the column types or set `show_col_types = FALSE` to quiet this message.\n"
     ]
    }
   ],
   "source": [
    "# 2014\n",
    "## import data\n",
    "df_201407 = read_csv(\"data\\\\Divvy_Stations_Trips_2014_Q3Q4\\\\Divvy_Trips_2014-Q3-07.csv\")\n",
    "df_20140809 = read_csv(\"data\\\\Divvy_Stations_Trips_2014_Q3Q4\\\\Divvy_Trips_2014-Q3-0809.csv\")\n",
    "\n",
    "#join to get q3 data\n",
    "df_q3 = rbind(df_201407, df_20140809)\n",
    "\n",
    "# get q1q2, q4 data\n",
    "df_14q1_2 = read_csv(\"data\\\\Divvy_Trips_2014_Q1Q2.csv\")\n",
    "df_14q4 = read_csv(\"data\\\\Divvy_Stations_Trips_2014_Q3Q4\\\\Divvy_Trips_2014-Q4.csv\")\n",
    "\n",
    "###bind 2014 data\n",
    "\n",
    "df_14 = rbind(df_14q1_2, df_q3,df_14q4)"
   ]
  },
  {
   "cell_type": "code",
   "execution_count": 30,
   "id": "e415b6a0-734e-4128-a24a-568b8f1054d4",
   "metadata": {},
   "outputs": [
    {
     "name": "stderr",
     "output_type": "stream",
     "text": [
      "\u001b[1mRows: \u001b[22m\u001b[34m202349\u001b[39m \u001b[1mColumns: \u001b[22m\u001b[34m12\u001b[39m\n",
      "\u001b[36m──\u001b[39m \u001b[1mColumn specification\u001b[22m \u001b[36m────────────────────────────────────────────────────────────────────────────────────────────────\u001b[39m\n",
      "\u001b[1mDelimiter:\u001b[22m \",\"\n",
      "\u001b[31mchr\u001b[39m (6): starttime, stoptime, from_station_name, to_station_name, usertype, ...\n",
      "\u001b[32mdbl\u001b[39m (6): trip_id, bikeid, tripduration, from_station_id, to_station_id, birt...\n",
      "\n",
      "\u001b[36mℹ\u001b[39m Use `spec()` to retrieve the full column specification for this data.\n",
      "\u001b[36mℹ\u001b[39m Specify the column types or set `show_col_types = FALSE` to quiet this message.\n",
      "\u001b[1mRows: \u001b[22m\u001b[34m893890\u001b[39m \u001b[1mColumns: \u001b[22m\u001b[34m12\u001b[39m\n",
      "\u001b[36m──\u001b[39m \u001b[1mColumn specification\u001b[22m \u001b[36m────────────────────────────────────────────────────────────────────────────────────────────────\u001b[39m\n",
      "\u001b[1mDelimiter:\u001b[22m \",\"\n",
      "\u001b[31mchr\u001b[39m (6): starttime, stoptime, from_station_name, to_station_name, usertype, ...\n",
      "\u001b[32mdbl\u001b[39m (6): trip_id, bikeid, tripduration, from_station_id, to_station_id, birt...\n",
      "\n",
      "\u001b[36mℹ\u001b[39m Use `spec()` to retrieve the full column specification for this data.\n",
      "\u001b[36mℹ\u001b[39m Specify the column types or set `show_col_types = FALSE` to quiet this message.\n",
      "\u001b[1mRows: \u001b[22m\u001b[34m631365\u001b[39m \u001b[1mColumns: \u001b[22m\u001b[34m12\u001b[39m\n",
      "\u001b[36m──\u001b[39m \u001b[1mColumn specification\u001b[22m \u001b[36m────────────────────────────────────────────────────────────────────────────────────────────────\u001b[39m\n",
      "\u001b[1mDelimiter:\u001b[22m \",\"\n",
      "\u001b[31mchr\u001b[39m (6): starttime, stoptime, from_station_name, to_station_name, usertype, ...\n",
      "\u001b[32mdbl\u001b[39m (6): trip_id, bikeid, tripduration, from_station_id, to_station_id, birt...\n",
      "\n",
      "\u001b[36mℹ\u001b[39m Use `spec()` to retrieve the full column specification for this data.\n",
      "\u001b[36mℹ\u001b[39m Specify the column types or set `show_col_types = FALSE` to quiet this message.\n",
      "\u001b[1mRows: \u001b[22m\u001b[34m533711\u001b[39m \u001b[1mColumns: \u001b[22m\u001b[34m12\u001b[39m\n",
      "\u001b[36m──\u001b[39m \u001b[1mColumn specification\u001b[22m \u001b[36m────────────────────────────────────────────────────────────────────────────────────────────────\u001b[39m\n",
      "\u001b[1mDelimiter:\u001b[22m \",\"\n",
      "\u001b[31mchr\u001b[39m (6): starttime, stoptime, from_station_name, to_station_name, usertype, ...\n",
      "\u001b[32mdbl\u001b[39m (6): trip_id, bikeid, tripduration, from_station_id, to_station_id, birt...\n",
      "\n",
      "\u001b[36mℹ\u001b[39m Use `spec()` to retrieve the full column specification for this data.\n",
      "\u001b[36mℹ\u001b[39m Specify the column types or set `show_col_types = FALSE` to quiet this message.\n",
      "\u001b[1mRows: \u001b[22m\u001b[34m495029\u001b[39m \u001b[1mColumns: \u001b[22m\u001b[34m12\u001b[39m\n",
      "\u001b[36m──\u001b[39m \u001b[1mColumn specification\u001b[22m \u001b[36m────────────────────────────────────────────────────────────────────────────────────────────────\u001b[39m\n",
      "\u001b[1mDelimiter:\u001b[22m \",\"\n",
      "\u001b[31mchr\u001b[39m (6): starttime, stoptime, from_station_name, to_station_name, usertype, ...\n",
      "\u001b[32mdbl\u001b[39m (6): trip_id, bikeid, tripduration, from_station_id, to_station_id, birt...\n",
      "\n",
      "\u001b[36mℹ\u001b[39m Use `spec()` to retrieve the full column specification for this data.\n",
      "\u001b[36mℹ\u001b[39m Specify the column types or set `show_col_types = FALSE` to quiet this message.\n",
      "\u001b[1mRows: \u001b[22m\u001b[34m495029\u001b[39m \u001b[1mColumns: \u001b[22m\u001b[34m12\u001b[39m\n",
      "\u001b[36m──\u001b[39m \u001b[1mColumn specification\u001b[22m \u001b[36m────────────────────────────────────────────────────────────────────────────────────────────────\u001b[39m\n",
      "\u001b[1mDelimiter:\u001b[22m \",\"\n",
      "\u001b[31mchr\u001b[39m (6): starttime, stoptime, from_station_name, to_station_name, usertype, ...\n",
      "\u001b[32mdbl\u001b[39m (6): trip_id, bikeid, tripduration, from_station_id, to_station_id, birt...\n",
      "\n",
      "\u001b[36mℹ\u001b[39m Use `spec()` to retrieve the full column specification for this data.\n",
      "\u001b[36mℹ\u001b[39m Specify the column types or set `show_col_types = FALSE` to quiet this message.\n"
     ]
    }
   ],
   "source": [
    "# 2014\n",
    "### Get 2015 data --q1,2,4\n",
    "\n",
    "df_15q1 = read_csv(\"data\\\\Divvy_Trips_2015-Q1.csv\")\n",
    "df_15q2 = read_csv(\"data\\\\Divvy_Trips_2015-Q2.csv\")\n",
    "df_15q4 = read_csv(\"data\\\\Divvy_Trips_2015_Q4.csv\")\n",
    "\n",
    "### get 2015 q3 data\n",
    "df_150307 = read_csv(\"data\\\\Divvy_Trips_2015_07.csv\")\n",
    "df_150308 = read_csv(\"data\\\\Divvy_Trips_2015_08.csv\")\n",
    "df_150309 = read_csv(\"data\\\\Divvy_Trips_2015_08.csv\")\n",
    "##bind to get q3 data\n",
    "df_15q3 = rbind(df_150307, df_150308, df_150309)\n",
    "\n",
    "### bind 2015 data\n",
    "df_15 = rbind(df_15q1, df_15q2, df_15q3, df_15q4)"
   ]
  },
  {
   "cell_type": "code",
   "execution_count": 31,
   "id": "60f35441-bf2b-4148-980f-a86746bc8d01",
   "metadata": {},
   "outputs": [
    {
     "name": "stderr",
     "output_type": "stream",
     "text": [
      "\u001b[1mRows: \u001b[22m\u001b[34m396913\u001b[39m \u001b[1mColumns: \u001b[22m\u001b[34m12\u001b[39m\n",
      "\u001b[36m──\u001b[39m \u001b[1mColumn specification\u001b[22m \u001b[36m────────────────────────────────────────────────────────────────────────────────────────────────\u001b[39m\n",
      "\u001b[1mDelimiter:\u001b[22m \",\"\n",
      "\u001b[31mchr\u001b[39m (6): starttime, stoptime, from_station_name, to_station_name, usertype, ...\n",
      "\u001b[32mdbl\u001b[39m (6): trip_id, bikeid, tripduration, from_station_id, to_station_id, birt...\n",
      "\n",
      "\u001b[36mℹ\u001b[39m Use `spec()` to retrieve the full column specification for this data.\n",
      "\u001b[36mℹ\u001b[39m Specify the column types or set `show_col_types = FALSE` to quiet this message.\n",
      "\u001b[1mRows: \u001b[22m\u001b[34m1441811\u001b[39m \u001b[1mColumns: \u001b[22m\u001b[34m12\u001b[39m\n",
      "\u001b[36m──\u001b[39m \u001b[1mColumn specification\u001b[22m \u001b[36m────────────────────────────────────────────────────────────────────────────────────────────────\u001b[39m\n",
      "\u001b[1mDelimiter:\u001b[22m \",\"\n",
      "\u001b[31mchr\u001b[39m (6): starttime, stoptime, from_station_name, to_station_name, usertype, ...\n",
      "\u001b[32mdbl\u001b[39m (6): trip_id, bikeid, tripduration, from_station_id, to_station_id, birt...\n",
      "\n",
      "\u001b[36mℹ\u001b[39m Use `spec()` to retrieve the full column specification for this data.\n",
      "\u001b[36mℹ\u001b[39m Specify the column types or set `show_col_types = FALSE` to quiet this message.\n",
      "\u001b[1mRows: \u001b[22m\u001b[34m683832\u001b[39m \u001b[1mColumns: \u001b[22m\u001b[34m12\u001b[39m\n",
      "\u001b[36m──\u001b[39m \u001b[1mColumn specification\u001b[22m \u001b[36m────────────────────────────────────────────────────────────────────────────────────────────────\u001b[39m\n",
      "\u001b[1mDelimiter:\u001b[22m \",\"\n",
      "\u001b[31mchr\u001b[39m (6): starttime, stoptime, from_station_name, to_station_name, usertype, ...\n",
      "\u001b[32mdbl\u001b[39m (6): trip_id, bikeid, tripduration, from_station_id, to_station_id, birt...\n",
      "\n",
      "\u001b[36mℹ\u001b[39m Use `spec()` to retrieve the full column specification for this data.\n",
      "\u001b[36mℹ\u001b[39m Specify the column types or set `show_col_types = FALSE` to quiet this message.\n",
      "\u001b[1mRows: \u001b[22m\u001b[34m231635\u001b[39m \u001b[1mColumns: \u001b[22m\u001b[34m12\u001b[39m\n",
      "\u001b[36m──\u001b[39m \u001b[1mColumn specification\u001b[22m \u001b[36m────────────────────────────────────────────────────────────────────────────────────────────────\u001b[39m\n",
      "\u001b[1mDelimiter:\u001b[22m \",\"\n",
      "\u001b[31mchr\u001b[39m (6): starttime, stoptime, from_station_name, to_station_name, usertype, ...\n",
      "\u001b[32mdbl\u001b[39m (6): trip_id, bikeid, tripduration, from_station_id, to_station_id, birt...\n",
      "\n",
      "\u001b[36mℹ\u001b[39m Use `spec()` to retrieve the full column specification for this data.\n",
      "\u001b[36mℹ\u001b[39m Specify the column types or set `show_col_types = FALSE` to quiet this message.\n",
      "\u001b[1mRows: \u001b[22m\u001b[34m363319\u001b[39m \u001b[1mColumns: \u001b[22m\u001b[34m12\u001b[39m\n",
      "\u001b[36m──\u001b[39m \u001b[1mColumn specification\u001b[22m \u001b[36m────────────────────────────────────────────────────────────────────────────────────────────────\u001b[39m\n",
      "\u001b[1mDelimiter:\u001b[22m \",\"\n",
      "\u001b[31mchr\u001b[39m (6): starttime, stoptime, from_station_name, to_station_name, usertype, ...\n",
      "\u001b[32mdbl\u001b[39m (6): trip_id, bikeid, tripduration, from_station_id, to_station_id, birt...\n",
      "\n",
      "\u001b[36mℹ\u001b[39m Use `spec()` to retrieve the full column specification for this data.\n",
      "\u001b[36mℹ\u001b[39m Specify the column types or set `show_col_types = FALSE` to quiet this message.\n",
      "\u001b[1mRows: \u001b[22m\u001b[34m477873\u001b[39m \u001b[1mColumns: \u001b[22m\u001b[34m12\u001b[39m\n",
      "\u001b[36m──\u001b[39m \u001b[1mColumn specification\u001b[22m \u001b[36m────────────────────────────────────────────────────────────────────────────────────────────────\u001b[39m\n",
      "\u001b[1mDelimiter:\u001b[22m \",\"\n",
      "\u001b[31mchr\u001b[39m (6): starttime, stoptime, from_station_name, to_station_name, usertype, ...\n",
      "\u001b[32mdbl\u001b[39m (6): trip_id, bikeid, tripduration, from_station_id, to_station_id, birt...\n",
      "\n",
      "\u001b[36mℹ\u001b[39m Use `spec()` to retrieve the full column specification for this data.\n",
      "\u001b[36mℹ\u001b[39m Specify the column types or set `show_col_types = FALSE` to quiet this message.\n"
     ]
    }
   ],
   "source": [
    "# 2016\n",
    "##q1 data\n",
    "df_16q1 = read_csv(\"data\\\\Divvy_Trips_2016_Q1Q2\\\\Divvy_Trips_2016_Q1.csv\")\n",
    "df_16q3 = read_csv(\"data\\\\Divvy_Trips_2016_Q3.csv\")\n",
    "df_16q4 = read_csv(\"data\\\\Divvy_Trips_2016_Q4.csv\")\n",
    "\n",
    "## bind q2 data\n",
    "df_q204 = read_csv(\"data\\\\Divvy_Trips_2016_Q1Q2\\\\Divvy_Trips_2016_04.csv\")\n",
    "df_q205 = read_csv(\"data\\\\Divvy_Trips_2016_Q1Q2\\\\Divvy_Trips_2016_05.csv\")\n",
    "df_q206 = read_csv(\"data\\\\Divvy_Trips_2016_Q1Q2\\\\Divvy_Trips_2016_06.csv\")\n",
    "## bind to get q2 data\n",
    "df_16q2 = rbind(df_q204, df_q205, df_q206)\n",
    "\n",
    "## 2016 data\n",
    "\n",
    "df_16 = rbind(df_16q1, df_16q2, df_16q3, df_16q4)"
   ]
  },
  {
   "cell_type": "code",
   "execution_count": 32,
   "id": "91c1f243-2550-4c58-996f-9e0518116529",
   "metadata": {},
   "outputs": [
    {
     "name": "stderr",
     "output_type": "stream",
     "text": [
      "\u001b[1mRows: \u001b[22m\u001b[34m431691\u001b[39m \u001b[1mColumns: \u001b[22m\u001b[34m12\u001b[39m\n",
      "\u001b[36m──\u001b[39m \u001b[1mColumn specification\u001b[22m \u001b[36m────────────────────────────────────────────────────────────────────────────────────────────────\u001b[39m\n",
      "\u001b[1mDelimiter:\u001b[22m \",\"\n",
      "\u001b[31mchr\u001b[39m (6): start_time, end_time, from_station_name, to_station_name, usertype,...\n",
      "\u001b[32mdbl\u001b[39m (6): trip_id, bikeid, tripduration, from_station_id, to_station_id, birt...\n",
      "\n",
      "\u001b[36mℹ\u001b[39m Use `spec()` to retrieve the full column specification for this data.\n",
      "\u001b[36mℹ\u001b[39m Specify the column types or set `show_col_types = FALSE` to quiet this message.\n",
      "\u001b[1mRows: \u001b[22m\u001b[34m1119814\u001b[39m \u001b[1mColumns: \u001b[22m\u001b[34m12\u001b[39m\n",
      "\u001b[36m──\u001b[39m \u001b[1mColumn specification\u001b[22m \u001b[36m────────────────────────────────────────────────────────────────────────────────────────────────\u001b[39m\n",
      "\u001b[1mDelimiter:\u001b[22m \",\"\n",
      "\u001b[31mchr\u001b[39m (6): start_time, end_time, from_station_name, to_station_name, usertype,...\n",
      "\u001b[32mdbl\u001b[39m (6): trip_id, bikeid, tripduration, from_station_id, to_station_id, birt...\n",
      "\n",
      "\u001b[36mℹ\u001b[39m Use `spec()` to retrieve the full column specification for this data.\n",
      "\u001b[36mℹ\u001b[39m Specify the column types or set `show_col_types = FALSE` to quiet this message.\n",
      "\u001b[1mRows: \u001b[22m\u001b[34m1608270\u001b[39m \u001b[1mColumns: \u001b[22m\u001b[34m12\u001b[39m\n",
      "\u001b[36m──\u001b[39m \u001b[1mColumn specification\u001b[22m \u001b[36m────────────────────────────────────────────────────────────────────────────────────────────────\u001b[39m\n",
      "\u001b[1mDelimiter:\u001b[22m \",\"\n",
      "\u001b[31mchr\u001b[39m (6): start_time, end_time, from_station_name, to_station_name, usertype,...\n",
      "\u001b[32mdbl\u001b[39m (6): trip_id, bikeid, tripduration, from_station_id, to_station_id, birt...\n",
      "\n",
      "\u001b[36mℹ\u001b[39m Use `spec()` to retrieve the full column specification for this data.\n",
      "\u001b[36mℹ\u001b[39m Specify the column types or set `show_col_types = FALSE` to quiet this message.\n",
      "\u001b[1mRows: \u001b[22m\u001b[34m669239\u001b[39m \u001b[1mColumns: \u001b[22m\u001b[34m12\u001b[39m\n",
      "\u001b[36m──\u001b[39m \u001b[1mColumn specification\u001b[22m \u001b[36m────────────────────────────────────────────────────────────────────────────────────────────────\u001b[39m\n",
      "\u001b[1mDelimiter:\u001b[22m \",\"\n",
      "\u001b[31mchr\u001b[39m (6): start_time, end_time, from_station_name, to_station_name, usertype,...\n",
      "\u001b[32mdbl\u001b[39m (6): trip_id, bikeid, tripduration, from_station_id, to_station_id, birt...\n",
      "\n",
      "\u001b[36mℹ\u001b[39m Use `spec()` to retrieve the full column specification for this data.\n",
      "\u001b[36mℹ\u001b[39m Specify the column types or set `show_col_types = FALSE` to quiet this message.\n"
     ]
    }
   ],
   "source": [
    "#2017 data\n",
    "df_17q1 = read_csv(\"data\\\\Divvy_Trips_2017_Q1.csv\")\n",
    "df_17q2 = read_csv(\"data\\\\Divvy_Trips_2017_Q2.csv\")\n",
    "df_17q3 = read_csv(\"data\\\\Divvy_Trips_2017_Q3.csv\")\n",
    "df_17q4 = read_csv(\"data\\\\Divvy_Trips_2017_Q4.csv\")\n",
    "\n",
    "##bind\n",
    "\n",
    "df_17 = rbind(df_17q1, df_17q2, df_17q3, df_17q4)"
   ]
  },
  {
   "cell_type": "code",
   "execution_count": 33,
   "id": "328cd2cb-c83d-4650-a42e-aad1ce7c05dd",
   "metadata": {},
   "outputs": [
    {
     "name": "stderr",
     "output_type": "stream",
     "text": [
      "\u001b[1mRows: \u001b[22m\u001b[34m387145\u001b[39m \u001b[1mColumns: \u001b[22m\u001b[34m12\u001b[39m\n",
      "\u001b[36m──\u001b[39m \u001b[1mColumn specification\u001b[22m \u001b[36m────────────────────────────────────────────────────────────────────────────────────────────────\u001b[39m\n",
      "\u001b[1mDelimiter:\u001b[22m \",\"\n",
      "\u001b[31mchr\u001b[39m  (4): 03 - Rental Start Station Name, 02 - Rental End Station Name, User...\n",
      "\u001b[32mdbl\u001b[39m  (5): 01 - Rental Details Rental ID, 01 - Rental Details Bike ID, 03 - R...\n",
      "\u001b[34mdttm\u001b[39m (2): 01 - Rental Details Local Start Time, 01 - Rental Details Local En...\n",
      "\n",
      "\u001b[36mℹ\u001b[39m Use `spec()` to retrieve the full column specification for this data.\n",
      "\u001b[36mℹ\u001b[39m Specify the column types or set `show_col_types = FALSE` to quiet this message.\n",
      "\u001b[1mRows: \u001b[22m\u001b[34m1059681\u001b[39m \u001b[1mColumns: \u001b[22m\u001b[34m12\u001b[39m\n",
      "\u001b[36m──\u001b[39m \u001b[1mColumn specification\u001b[22m \u001b[36m────────────────────────────────────────────────────────────────────────────────────────────────\u001b[39m\n",
      "\u001b[1mDelimiter:\u001b[22m \",\"\n",
      "\u001b[31mchr\u001b[39m  (4): from_station_name, to_station_name, usertype, gender\n",
      "\u001b[32mdbl\u001b[39m  (5): trip_id, bikeid, from_station_id, to_station_id, birthyear\n",
      "\u001b[34mdttm\u001b[39m (2): start_time, end_time\n",
      "\n",
      "\u001b[36mℹ\u001b[39m Use `spec()` to retrieve the full column specification for this data.\n",
      "\u001b[36mℹ\u001b[39m Specify the column types or set `show_col_types = FALSE` to quiet this message.\n",
      "\u001b[1mRows: \u001b[22m\u001b[34m1513570\u001b[39m \u001b[1mColumns: \u001b[22m\u001b[34m12\u001b[39m\n",
      "\u001b[36m──\u001b[39m \u001b[1mColumn specification\u001b[22m \u001b[36m────────────────────────────────────────────────────────────────────────────────────────────────\u001b[39m\n",
      "\u001b[1mDelimiter:\u001b[22m \",\"\n",
      "\u001b[31mchr\u001b[39m  (4): from_station_name, to_station_name, usertype, gender\n",
      "\u001b[32mdbl\u001b[39m  (5): trip_id, bikeid, from_station_id, to_station_id, birthyear\n",
      "\u001b[34mdttm\u001b[39m (2): start_time, end_time\n",
      "\n",
      "\u001b[36mℹ\u001b[39m Use `spec()` to retrieve the full column specification for this data.\n",
      "\u001b[36mℹ\u001b[39m Specify the column types or set `show_col_types = FALSE` to quiet this message.\n",
      "\u001b[1mRows: \u001b[22m\u001b[34m642686\u001b[39m \u001b[1mColumns: \u001b[22m\u001b[34m12\u001b[39m\n",
      "\u001b[36m──\u001b[39m \u001b[1mColumn specification\u001b[22m \u001b[36m────────────────────────────────────────────────────────────────────────────────────────────────\u001b[39m\n",
      "\u001b[1mDelimiter:\u001b[22m \",\"\n",
      "\u001b[31mchr\u001b[39m  (4): from_station_name, to_station_name, usertype, gender\n",
      "\u001b[32mdbl\u001b[39m  (5): trip_id, bikeid, from_station_id, to_station_id, birthyear\n",
      "\u001b[34mdttm\u001b[39m (2): start_time, end_time\n",
      "\n",
      "\u001b[36mℹ\u001b[39m Use `spec()` to retrieve the full column specification for this data.\n",
      "\u001b[36mℹ\u001b[39m Specify the column types or set `show_col_types = FALSE` to quiet this message.\n"
     ]
    }
   ],
   "source": [
    "# 2018 data\n",
    "df_18q1 = read_csv(\"data\\\\Divvy_Trips_2018_Q1.csv\")\n",
    "df_18q2 = read_csv(\"data\\\\Divvy_Trips_2018_Q2.csv\")\n",
    "df_18q3 = read_csv(\"data\\\\Divvy_Trips_2018_Q3.csv\")\n",
    "df_18q4 = read_csv(\"data\\\\Divvy_Trips_2018_Q4.csv\")\n",
    "\n",
    "df_18q1 = df_18q1 %>% clean_names()"
   ]
  },
  {
   "cell_type": "code",
   "execution_count": 34,
   "id": "37843cd1-4b03-4471-81a5-3f4ca6875f6a",
   "metadata": {},
   "outputs": [
    {
     "data": {
      "text/html": [
       "<table class=\"dataframe\">\n",
       "<caption>A tibble: 6 × 12</caption>\n",
       "<thead>\n",
       "\t<tr><th scope=col>x01_rental_details_rental_id</th><th scope=col>x01_rental_details_local_start_time</th><th scope=col>x01_rental_details_local_end_time</th><th scope=col>x01_rental_details_bike_id</th><th scope=col>x01_rental_details_duration_in_seconds_uncapped</th><th scope=col>x03_rental_start_station_id</th><th scope=col>x03_rental_start_station_name</th><th scope=col>x02_rental_end_station_id</th><th scope=col>x02_rental_end_station_name</th><th scope=col>user_type</th><th scope=col>member_gender</th><th scope=col>x05_member_details_member_birthday_year</th></tr>\n",
       "\t<tr><th scope=col>&lt;dbl&gt;</th><th scope=col>&lt;dttm&gt;</th><th scope=col>&lt;dttm&gt;</th><th scope=col>&lt;dbl&gt;</th><th scope=col>&lt;dbl&gt;</th><th scope=col>&lt;dbl&gt;</th><th scope=col>&lt;chr&gt;</th><th scope=col>&lt;dbl&gt;</th><th scope=col>&lt;chr&gt;</th><th scope=col>&lt;chr&gt;</th><th scope=col>&lt;chr&gt;</th><th scope=col>&lt;dbl&gt;</th></tr>\n",
       "</thead>\n",
       "<tbody>\n",
       "\t<tr><td>17536702</td><td>2018-01-01 00:12:00</td><td>2018-01-01 00:17:23</td><td>3304</td><td> 323</td><td> 69</td><td><span style=white-space:pre-wrap>Damen Ave &amp; Pierce Ave     </span></td><td>159</td><td><span style=white-space:pre-wrap>Claremont Ave &amp; Hirsch St     </span></td><td>Subscriber</td><td><span style=white-space:pre-wrap>Male  </span></td><td>1988</td></tr>\n",
       "\t<tr><td>17536703</td><td>2018-01-01 00:41:35</td><td>2018-01-01 00:47:52</td><td>5367</td><td> 377</td><td>253</td><td>Winthrop Ave &amp; Lawrence Ave</td><td>325</td><td>Clark St &amp; Winnemac Ave (Temp)</td><td>Subscriber</td><td><span style=white-space:pre-wrap>Male  </span></td><td>1984</td></tr>\n",
       "\t<tr><td>17536704</td><td>2018-01-01 00:44:46</td><td>2018-01-01 01:33:10</td><td>4599</td><td>2904</td><td> 98</td><td>LaSalle St &amp; Washington St </td><td>509</td><td><span style=white-space:pre-wrap>Troy St &amp; North Ave           </span></td><td>Subscriber</td><td><span style=white-space:pre-wrap>Male  </span></td><td>1989</td></tr>\n",
       "\t<tr><td>17536705</td><td>2018-01-01 00:53:10</td><td>2018-01-01 01:05:37</td><td>2302</td><td> 747</td><td>125</td><td><span style=white-space:pre-wrap>Rush St &amp; Hubbard St       </span></td><td>364</td><td><span style=white-space:pre-wrap>Larrabee St &amp; Oak St          </span></td><td>Subscriber</td><td><span style=white-space:pre-wrap>Male  </span></td><td>1983</td></tr>\n",
       "\t<tr><td>17536706</td><td>2018-01-01 00:53:37</td><td>2018-01-01 00:56:40</td><td>3696</td><td> 183</td><td>129</td><td><span style=white-space:pre-wrap>Blue Island Ave &amp; 18th St  </span></td><td>205</td><td><span style=white-space:pre-wrap>Paulina St &amp; 18th St          </span></td><td>Subscriber</td><td><span style=white-space:pre-wrap>Male  </span></td><td>1989</td></tr>\n",
       "\t<tr><td>17536707</td><td>2018-01-01 00:56:15</td><td>2018-01-01 01:00:41</td><td>6298</td><td> 266</td><td>304</td><td><span style=white-space:pre-wrap>Broadway &amp; Waveland Ave    </span></td><td>299</td><td><span style=white-space:pre-wrap>Halsted St &amp; Roscoe St        </span></td><td>Subscriber</td><td>Female</td><td>1994</td></tr>\n",
       "</tbody>\n",
       "</table>\n"
      ],
      "text/latex": [
       "A tibble: 6 × 12\n",
       "\\begin{tabular}{llllllllllll}\n",
       " x01\\_rental\\_details\\_rental\\_id & x01\\_rental\\_details\\_local\\_start\\_time & x01\\_rental\\_details\\_local\\_end\\_time & x01\\_rental\\_details\\_bike\\_id & x01\\_rental\\_details\\_duration\\_in\\_seconds\\_uncapped & x03\\_rental\\_start\\_station\\_id & x03\\_rental\\_start\\_station\\_name & x02\\_rental\\_end\\_station\\_id & x02\\_rental\\_end\\_station\\_name & user\\_type & member\\_gender & x05\\_member\\_details\\_member\\_birthday\\_year\\\\\n",
       " <dbl> & <dttm> & <dttm> & <dbl> & <dbl> & <dbl> & <chr> & <dbl> & <chr> & <chr> & <chr> & <dbl>\\\\\n",
       "\\hline\n",
       "\t 17536702 & 2018-01-01 00:12:00 & 2018-01-01 00:17:23 & 3304 &  323 &  69 & Damen Ave \\& Pierce Ave      & 159 & Claremont Ave \\& Hirsch St      & Subscriber & Male   & 1988\\\\\n",
       "\t 17536703 & 2018-01-01 00:41:35 & 2018-01-01 00:47:52 & 5367 &  377 & 253 & Winthrop Ave \\& Lawrence Ave & 325 & Clark St \\& Winnemac Ave (Temp) & Subscriber & Male   & 1984\\\\\n",
       "\t 17536704 & 2018-01-01 00:44:46 & 2018-01-01 01:33:10 & 4599 & 2904 &  98 & LaSalle St \\& Washington St  & 509 & Troy St \\& North Ave            & Subscriber & Male   & 1989\\\\\n",
       "\t 17536705 & 2018-01-01 00:53:10 & 2018-01-01 01:05:37 & 2302 &  747 & 125 & Rush St \\& Hubbard St        & 364 & Larrabee St \\& Oak St           & Subscriber & Male   & 1983\\\\\n",
       "\t 17536706 & 2018-01-01 00:53:37 & 2018-01-01 00:56:40 & 3696 &  183 & 129 & Blue Island Ave \\& 18th St   & 205 & Paulina St \\& 18th St           & Subscriber & Male   & 1989\\\\\n",
       "\t 17536707 & 2018-01-01 00:56:15 & 2018-01-01 01:00:41 & 6298 &  266 & 304 & Broadway \\& Waveland Ave     & 299 & Halsted St \\& Roscoe St         & Subscriber & Female & 1994\\\\\n",
       "\\end{tabular}\n"
      ],
      "text/markdown": [
       "\n",
       "A tibble: 6 × 12\n",
       "\n",
       "| x01_rental_details_rental_id &lt;dbl&gt; | x01_rental_details_local_start_time &lt;dttm&gt; | x01_rental_details_local_end_time &lt;dttm&gt; | x01_rental_details_bike_id &lt;dbl&gt; | x01_rental_details_duration_in_seconds_uncapped &lt;dbl&gt; | x03_rental_start_station_id &lt;dbl&gt; | x03_rental_start_station_name &lt;chr&gt; | x02_rental_end_station_id &lt;dbl&gt; | x02_rental_end_station_name &lt;chr&gt; | user_type &lt;chr&gt; | member_gender &lt;chr&gt; | x05_member_details_member_birthday_year &lt;dbl&gt; |\n",
       "|---|---|---|---|---|---|---|---|---|---|---|---|\n",
       "| 17536702 | 2018-01-01 00:12:00 | 2018-01-01 00:17:23 | 3304 |  323 |  69 | Damen Ave &amp; Pierce Ave      | 159 | Claremont Ave &amp; Hirsch St      | Subscriber | Male   | 1988 |\n",
       "| 17536703 | 2018-01-01 00:41:35 | 2018-01-01 00:47:52 | 5367 |  377 | 253 | Winthrop Ave &amp; Lawrence Ave | 325 | Clark St &amp; Winnemac Ave (Temp) | Subscriber | Male   | 1984 |\n",
       "| 17536704 | 2018-01-01 00:44:46 | 2018-01-01 01:33:10 | 4599 | 2904 |  98 | LaSalle St &amp; Washington St  | 509 | Troy St &amp; North Ave            | Subscriber | Male   | 1989 |\n",
       "| 17536705 | 2018-01-01 00:53:10 | 2018-01-01 01:05:37 | 2302 |  747 | 125 | Rush St &amp; Hubbard St        | 364 | Larrabee St &amp; Oak St           | Subscriber | Male   | 1983 |\n",
       "| 17536706 | 2018-01-01 00:53:37 | 2018-01-01 00:56:40 | 3696 |  183 | 129 | Blue Island Ave &amp; 18th St   | 205 | Paulina St &amp; 18th St           | Subscriber | Male   | 1989 |\n",
       "| 17536707 | 2018-01-01 00:56:15 | 2018-01-01 01:00:41 | 6298 |  266 | 304 | Broadway &amp; Waveland Ave     | 299 | Halsted St &amp; Roscoe St         | Subscriber | Female | 1994 |\n",
       "\n"
      ],
      "text/plain": [
       "  x01_rental_details_rental_id x01_rental_details_local_start_time\n",
       "1 17536702                     2018-01-01 00:12:00                \n",
       "2 17536703                     2018-01-01 00:41:35                \n",
       "3 17536704                     2018-01-01 00:44:46                \n",
       "4 17536705                     2018-01-01 00:53:10                \n",
       "5 17536706                     2018-01-01 00:53:37                \n",
       "6 17536707                     2018-01-01 00:56:15                \n",
       "  x01_rental_details_local_end_time x01_rental_details_bike_id\n",
       "1 2018-01-01 00:17:23               3304                      \n",
       "2 2018-01-01 00:47:52               5367                      \n",
       "3 2018-01-01 01:33:10               4599                      \n",
       "4 2018-01-01 01:05:37               2302                      \n",
       "5 2018-01-01 00:56:40               3696                      \n",
       "6 2018-01-01 01:00:41               6298                      \n",
       "  x01_rental_details_duration_in_seconds_uncapped x03_rental_start_station_id\n",
       "1  323                                             69                        \n",
       "2  377                                            253                        \n",
       "3 2904                                             98                        \n",
       "4  747                                            125                        \n",
       "5  183                                            129                        \n",
       "6  266                                            304                        \n",
       "  x03_rental_start_station_name x02_rental_end_station_id\n",
       "1 Damen Ave & Pierce Ave        159                      \n",
       "2 Winthrop Ave & Lawrence Ave   325                      \n",
       "3 LaSalle St & Washington St    509                      \n",
       "4 Rush St & Hubbard St          364                      \n",
       "5 Blue Island Ave & 18th St     205                      \n",
       "6 Broadway & Waveland Ave       299                      \n",
       "  x02_rental_end_station_name    user_type  member_gender\n",
       "1 Claremont Ave & Hirsch St      Subscriber Male         \n",
       "2 Clark St & Winnemac Ave (Temp) Subscriber Male         \n",
       "3 Troy St & North Ave            Subscriber Male         \n",
       "4 Larrabee St & Oak St           Subscriber Male         \n",
       "5 Paulina St & 18th St           Subscriber Male         \n",
       "6 Halsted St & Roscoe St         Subscriber Female       \n",
       "  x05_member_details_member_birthday_year\n",
       "1 1988                                   \n",
       "2 1984                                   \n",
       "3 1989                                   \n",
       "4 1983                                   \n",
       "5 1989                                   \n",
       "6 1994                                   "
      ]
     },
     "metadata": {},
     "output_type": "display_data"
    }
   ],
   "source": [
    "df_18q1 %>% head()"
   ]
  },
  {
   "cell_type": "code",
   "execution_count": 35,
   "id": "b7200d7d-4969-440f-9438-2964cb653e38",
   "metadata": {},
   "outputs": [],
   "source": [
    "##rename columns to make them uniform for easier binding\n",
    "df_18q1 = rename(df_18q1, c(trip_id = x01_rental_details_rental_id, start_time = x01_rental_details_local_start_time, end_time = x01_rental_details_local_end_time,\n",
    "                            bikeid = x01_rental_details_bike_id,\n",
    "                            tripduration = x01_rental_details_duration_in_seconds_uncapped,\n",
    "                            from_station_id = x03_rental_start_station_id,\n",
    "                            from_station_name = x03_rental_start_station_name,\n",
    "                            to_station_id = x02_rental_end_station_id,\n",
    "                            to_station_name = x02_rental_end_station_name,\n",
    "                            usertype = user_type,\n",
    "                            gender = member_gender,\n",
    "                            birthyear = x05_member_details_member_birthday_year))"
   ]
  },
  {
   "cell_type": "code",
   "execution_count": 36,
   "id": "20cc1750-0640-4f61-8c43-b067a060b73a",
   "metadata": {},
   "outputs": [
    {
     "data": {
      "text/html": [
       "<table class=\"dataframe\">\n",
       "<caption>A tibble: 6 × 12</caption>\n",
       "<thead>\n",
       "\t<tr><th scope=col>trip_id</th><th scope=col>start_time</th><th scope=col>end_time</th><th scope=col>bikeid</th><th scope=col>tripduration</th><th scope=col>from_station_id</th><th scope=col>from_station_name</th><th scope=col>to_station_id</th><th scope=col>to_station_name</th><th scope=col>usertype</th><th scope=col>gender</th><th scope=col>birthyear</th></tr>\n",
       "\t<tr><th scope=col>&lt;dbl&gt;</th><th scope=col>&lt;dttm&gt;</th><th scope=col>&lt;dttm&gt;</th><th scope=col>&lt;dbl&gt;</th><th scope=col>&lt;dbl&gt;</th><th scope=col>&lt;dbl&gt;</th><th scope=col>&lt;chr&gt;</th><th scope=col>&lt;dbl&gt;</th><th scope=col>&lt;chr&gt;</th><th scope=col>&lt;chr&gt;</th><th scope=col>&lt;chr&gt;</th><th scope=col>&lt;dbl&gt;</th></tr>\n",
       "</thead>\n",
       "<tbody>\n",
       "\t<tr><td>17536702</td><td>2018-01-01 00:12:00</td><td>2018-01-01 00:17:23</td><td>3304</td><td> 323</td><td> 69</td><td><span style=white-space:pre-wrap>Damen Ave &amp; Pierce Ave     </span></td><td>159</td><td><span style=white-space:pre-wrap>Claremont Ave &amp; Hirsch St     </span></td><td>Subscriber</td><td><span style=white-space:pre-wrap>Male  </span></td><td>1988</td></tr>\n",
       "\t<tr><td>17536703</td><td>2018-01-01 00:41:35</td><td>2018-01-01 00:47:52</td><td>5367</td><td> 377</td><td>253</td><td>Winthrop Ave &amp; Lawrence Ave</td><td>325</td><td>Clark St &amp; Winnemac Ave (Temp)</td><td>Subscriber</td><td><span style=white-space:pre-wrap>Male  </span></td><td>1984</td></tr>\n",
       "\t<tr><td>17536704</td><td>2018-01-01 00:44:46</td><td>2018-01-01 01:33:10</td><td>4599</td><td>2904</td><td> 98</td><td>LaSalle St &amp; Washington St </td><td>509</td><td><span style=white-space:pre-wrap>Troy St &amp; North Ave           </span></td><td>Subscriber</td><td><span style=white-space:pre-wrap>Male  </span></td><td>1989</td></tr>\n",
       "\t<tr><td>17536705</td><td>2018-01-01 00:53:10</td><td>2018-01-01 01:05:37</td><td>2302</td><td> 747</td><td>125</td><td><span style=white-space:pre-wrap>Rush St &amp; Hubbard St       </span></td><td>364</td><td><span style=white-space:pre-wrap>Larrabee St &amp; Oak St          </span></td><td>Subscriber</td><td><span style=white-space:pre-wrap>Male  </span></td><td>1983</td></tr>\n",
       "\t<tr><td>17536706</td><td>2018-01-01 00:53:37</td><td>2018-01-01 00:56:40</td><td>3696</td><td> 183</td><td>129</td><td><span style=white-space:pre-wrap>Blue Island Ave &amp; 18th St  </span></td><td>205</td><td><span style=white-space:pre-wrap>Paulina St &amp; 18th St          </span></td><td>Subscriber</td><td><span style=white-space:pre-wrap>Male  </span></td><td>1989</td></tr>\n",
       "\t<tr><td>17536707</td><td>2018-01-01 00:56:15</td><td>2018-01-01 01:00:41</td><td>6298</td><td> 266</td><td>304</td><td><span style=white-space:pre-wrap>Broadway &amp; Waveland Ave    </span></td><td>299</td><td><span style=white-space:pre-wrap>Halsted St &amp; Roscoe St        </span></td><td>Subscriber</td><td>Female</td><td>1994</td></tr>\n",
       "</tbody>\n",
       "</table>\n"
      ],
      "text/latex": [
       "A tibble: 6 × 12\n",
       "\\begin{tabular}{llllllllllll}\n",
       " trip\\_id & start\\_time & end\\_time & bikeid & tripduration & from\\_station\\_id & from\\_station\\_name & to\\_station\\_id & to\\_station\\_name & usertype & gender & birthyear\\\\\n",
       " <dbl> & <dttm> & <dttm> & <dbl> & <dbl> & <dbl> & <chr> & <dbl> & <chr> & <chr> & <chr> & <dbl>\\\\\n",
       "\\hline\n",
       "\t 17536702 & 2018-01-01 00:12:00 & 2018-01-01 00:17:23 & 3304 &  323 &  69 & Damen Ave \\& Pierce Ave      & 159 & Claremont Ave \\& Hirsch St      & Subscriber & Male   & 1988\\\\\n",
       "\t 17536703 & 2018-01-01 00:41:35 & 2018-01-01 00:47:52 & 5367 &  377 & 253 & Winthrop Ave \\& Lawrence Ave & 325 & Clark St \\& Winnemac Ave (Temp) & Subscriber & Male   & 1984\\\\\n",
       "\t 17536704 & 2018-01-01 00:44:46 & 2018-01-01 01:33:10 & 4599 & 2904 &  98 & LaSalle St \\& Washington St  & 509 & Troy St \\& North Ave            & Subscriber & Male   & 1989\\\\\n",
       "\t 17536705 & 2018-01-01 00:53:10 & 2018-01-01 01:05:37 & 2302 &  747 & 125 & Rush St \\& Hubbard St        & 364 & Larrabee St \\& Oak St           & Subscriber & Male   & 1983\\\\\n",
       "\t 17536706 & 2018-01-01 00:53:37 & 2018-01-01 00:56:40 & 3696 &  183 & 129 & Blue Island Ave \\& 18th St   & 205 & Paulina St \\& 18th St           & Subscriber & Male   & 1989\\\\\n",
       "\t 17536707 & 2018-01-01 00:56:15 & 2018-01-01 01:00:41 & 6298 &  266 & 304 & Broadway \\& Waveland Ave     & 299 & Halsted St \\& Roscoe St         & Subscriber & Female & 1994\\\\\n",
       "\\end{tabular}\n"
      ],
      "text/markdown": [
       "\n",
       "A tibble: 6 × 12\n",
       "\n",
       "| trip_id &lt;dbl&gt; | start_time &lt;dttm&gt; | end_time &lt;dttm&gt; | bikeid &lt;dbl&gt; | tripduration &lt;dbl&gt; | from_station_id &lt;dbl&gt; | from_station_name &lt;chr&gt; | to_station_id &lt;dbl&gt; | to_station_name &lt;chr&gt; | usertype &lt;chr&gt; | gender &lt;chr&gt; | birthyear &lt;dbl&gt; |\n",
       "|---|---|---|---|---|---|---|---|---|---|---|---|\n",
       "| 17536702 | 2018-01-01 00:12:00 | 2018-01-01 00:17:23 | 3304 |  323 |  69 | Damen Ave &amp; Pierce Ave      | 159 | Claremont Ave &amp; Hirsch St      | Subscriber | Male   | 1988 |\n",
       "| 17536703 | 2018-01-01 00:41:35 | 2018-01-01 00:47:52 | 5367 |  377 | 253 | Winthrop Ave &amp; Lawrence Ave | 325 | Clark St &amp; Winnemac Ave (Temp) | Subscriber | Male   | 1984 |\n",
       "| 17536704 | 2018-01-01 00:44:46 | 2018-01-01 01:33:10 | 4599 | 2904 |  98 | LaSalle St &amp; Washington St  | 509 | Troy St &amp; North Ave            | Subscriber | Male   | 1989 |\n",
       "| 17536705 | 2018-01-01 00:53:10 | 2018-01-01 01:05:37 | 2302 |  747 | 125 | Rush St &amp; Hubbard St        | 364 | Larrabee St &amp; Oak St           | Subscriber | Male   | 1983 |\n",
       "| 17536706 | 2018-01-01 00:53:37 | 2018-01-01 00:56:40 | 3696 |  183 | 129 | Blue Island Ave &amp; 18th St   | 205 | Paulina St &amp; 18th St           | Subscriber | Male   | 1989 |\n",
       "| 17536707 | 2018-01-01 00:56:15 | 2018-01-01 01:00:41 | 6298 |  266 | 304 | Broadway &amp; Waveland Ave     | 299 | Halsted St &amp; Roscoe St         | Subscriber | Female | 1994 |\n",
       "\n"
      ],
      "text/plain": [
       "  trip_id  start_time          end_time            bikeid tripduration\n",
       "1 17536702 2018-01-01 00:12:00 2018-01-01 00:17:23 3304    323        \n",
       "2 17536703 2018-01-01 00:41:35 2018-01-01 00:47:52 5367    377        \n",
       "3 17536704 2018-01-01 00:44:46 2018-01-01 01:33:10 4599   2904        \n",
       "4 17536705 2018-01-01 00:53:10 2018-01-01 01:05:37 2302    747        \n",
       "5 17536706 2018-01-01 00:53:37 2018-01-01 00:56:40 3696    183        \n",
       "6 17536707 2018-01-01 00:56:15 2018-01-01 01:00:41 6298    266        \n",
       "  from_station_id from_station_name           to_station_id\n",
       "1  69             Damen Ave & Pierce Ave      159          \n",
       "2 253             Winthrop Ave & Lawrence Ave 325          \n",
       "3  98             LaSalle St & Washington St  509          \n",
       "4 125             Rush St & Hubbard St        364          \n",
       "5 129             Blue Island Ave & 18th St   205          \n",
       "6 304             Broadway & Waveland Ave     299          \n",
       "  to_station_name                usertype   gender birthyear\n",
       "1 Claremont Ave & Hirsch St      Subscriber Male   1988     \n",
       "2 Clark St & Winnemac Ave (Temp) Subscriber Male   1984     \n",
       "3 Troy St & North Ave            Subscriber Male   1989     \n",
       "4 Larrabee St & Oak St           Subscriber Male   1983     \n",
       "5 Paulina St & 18th St           Subscriber Male   1989     \n",
       "6 Halsted St & Roscoe St         Subscriber Female 1994     "
      ]
     },
     "metadata": {},
     "output_type": "display_data"
    }
   ],
   "source": [
    "##glimpse at the data to confirm change in column names\n",
    "df_18q1 %>% head()"
   ]
  },
  {
   "cell_type": "code",
   "execution_count": 37,
   "id": "61df1cf2-3c61-4201-b123-aea82471e40b",
   "metadata": {},
   "outputs": [],
   "source": [
    "## bind\n",
    "df_18 = rbind(df_18q1, df_18q2, df_18q3, df_18q4)"
   ]
  },
  {
   "cell_type": "code",
   "execution_count": 38,
   "id": "b4078fde-67a1-47d7-b84c-7acd2a6e5987",
   "metadata": {},
   "outputs": [
    {
     "name": "stderr",
     "output_type": "stream",
     "text": [
      "\u001b[1mRows: \u001b[22m\u001b[34m365069\u001b[39m \u001b[1mColumns: \u001b[22m\u001b[34m12\u001b[39m\n",
      "\u001b[36m──\u001b[39m \u001b[1mColumn specification\u001b[22m \u001b[36m────────────────────────────────────────────────────────────────────────────────────────────────\u001b[39m\n",
      "\u001b[1mDelimiter:\u001b[22m \",\"\n",
      "\u001b[31mchr\u001b[39m  (4): from_station_name, to_station_name, usertype, gender\n",
      "\u001b[32mdbl\u001b[39m  (5): trip_id, bikeid, from_station_id, to_station_id, birthyear\n",
      "\u001b[34mdttm\u001b[39m (2): start_time, end_time\n",
      "\n",
      "\u001b[36mℹ\u001b[39m Use `spec()` to retrieve the full column specification for this data.\n",
      "\u001b[36mℹ\u001b[39m Specify the column types or set `show_col_types = FALSE` to quiet this message.\n",
      "\u001b[1mRows: \u001b[22m\u001b[34m1108163\u001b[39m \u001b[1mColumns: \u001b[22m\u001b[34m12\u001b[39m\n",
      "\u001b[36m──\u001b[39m \u001b[1mColumn specification\u001b[22m \u001b[36m────────────────────────────────────────────────────────────────────────────────────────────────\u001b[39m\n",
      "\u001b[1mDelimiter:\u001b[22m \",\"\n",
      "\u001b[31mchr\u001b[39m  (4): 03 - Rental Start Station Name, 02 - Rental End Station Name, User...\n",
      "\u001b[32mdbl\u001b[39m  (5): 01 - Rental Details Rental ID, 01 - Rental Details Bike ID, 03 - R...\n",
      "\u001b[34mdttm\u001b[39m (2): 01 - Rental Details Local Start Time, 01 - Rental Details Local En...\n",
      "\n",
      "\u001b[36mℹ\u001b[39m Use `spec()` to retrieve the full column specification for this data.\n",
      "\u001b[36mℹ\u001b[39m Specify the column types or set `show_col_types = FALSE` to quiet this message.\n",
      "\u001b[1mRows: \u001b[22m\u001b[34m1640718\u001b[39m \u001b[1mColumns: \u001b[22m\u001b[34m12\u001b[39m\n",
      "\u001b[36m──\u001b[39m \u001b[1mColumn specification\u001b[22m \u001b[36m────────────────────────────────────────────────────────────────────────────────────────────────\u001b[39m\n",
      "\u001b[1mDelimiter:\u001b[22m \",\"\n",
      "\u001b[31mchr\u001b[39m  (4): from_station_name, to_station_name, usertype, gender\n",
      "\u001b[32mdbl\u001b[39m  (5): trip_id, bikeid, from_station_id, to_station_id, birthyear\n",
      "\u001b[34mdttm\u001b[39m (2): start_time, end_time\n",
      "\n",
      "\u001b[36mℹ\u001b[39m Use `spec()` to retrieve the full column specification for this data.\n",
      "\u001b[36mℹ\u001b[39m Specify the column types or set `show_col_types = FALSE` to quiet this message.\n",
      "\u001b[1mRows: \u001b[22m\u001b[34m704054\u001b[39m \u001b[1mColumns: \u001b[22m\u001b[34m12\u001b[39m\n",
      "\u001b[36m──\u001b[39m \u001b[1mColumn specification\u001b[22m \u001b[36m────────────────────────────────────────────────────────────────────────────────────────────────\u001b[39m\n",
      "\u001b[1mDelimiter:\u001b[22m \",\"\n",
      "\u001b[31mchr\u001b[39m  (4): from_station_name, to_station_name, usertype, gender\n",
      "\u001b[32mdbl\u001b[39m  (5): trip_id, bikeid, from_station_id, to_station_id, birthyear\n",
      "\u001b[34mdttm\u001b[39m (2): start_time, end_time\n",
      "\n",
      "\u001b[36mℹ\u001b[39m Use `spec()` to retrieve the full column specification for this data.\n",
      "\u001b[36mℹ\u001b[39m Specify the column types or set `show_col_types = FALSE` to quiet this message.\n"
     ]
    }
   ],
   "source": [
    "## 2019\n",
    "#2019 data\n",
    "df_19q1 = read_csv(\"data\\\\Divvy_Trips_2019_Q1.csv\")\n",
    "df_19q2 = read_csv(\"data\\\\Divvy_Trips_2019_Q2.csv\")\n",
    "df_19q3 = read_csv(\"data\\\\Divvy_Trips_2019_Q3.csv\")\n",
    "df_19q4 = read_csv(\"data\\\\Divvy_Trips_2019_Q4.csv\")\n",
    "\n",
    "df_19q2 = df_19q2 %>% clean_names()"
   ]
  },
  {
   "cell_type": "code",
   "execution_count": 39,
   "id": "5116f2c0-ff8e-47cd-91aa-7f6bc972aab9",
   "metadata": {},
   "outputs": [],
   "source": [
    "df_19q2 = rename(df_19q2, c(trip_id = x01_rental_details_rental_id, start_time = x01_rental_details_local_start_time, end_time = x01_rental_details_local_end_time,\n",
    "                            bikeid = x01_rental_details_bike_id,\n",
    "                            tripduration = x01_rental_details_duration_in_seconds_uncapped,\n",
    "                            from_station_id = x03_rental_start_station_id,\n",
    "                            from_station_name = x03_rental_start_station_name,\n",
    "                            to_station_id = x02_rental_end_station_id,\n",
    "                            to_station_name = x02_rental_end_station_name,\n",
    "                            usertype = user_type,\n",
    "                            gender = member_gender,\n",
    "                            birthyear = x05_member_details_member_birthday_year))"
   ]
  },
  {
   "cell_type": "code",
   "execution_count": 40,
   "id": "6704f2fe-13ec-4d5d-af0c-6078943b845e",
   "metadata": {},
   "outputs": [],
   "source": [
    "## bind\n",
    "df_19 = rbind(df_19q1, df_19q2, df_19q3, df_19q4)"
   ]
  },
  {
   "cell_type": "code",
   "execution_count": 41,
   "id": "acf42b69-7cd0-4f3c-8b54-53371d480d5b",
   "metadata": {},
   "outputs": [
    {
     "name": "stderr",
     "output_type": "stream",
     "text": [
      "\u001b[1mRows: \u001b[22m\u001b[34m426887\u001b[39m \u001b[1mColumns: \u001b[22m\u001b[34m13\u001b[39m\n",
      "\u001b[36m──\u001b[39m \u001b[1mColumn specification\u001b[22m \u001b[36m────────────────────────────────────────────────────────────────────────────────────────────────\u001b[39m\n",
      "\u001b[1mDelimiter:\u001b[22m \",\"\n",
      "\u001b[31mchr\u001b[39m  (5): ride_id, rideable_type, start_station_name, end_station_name, memb...\n",
      "\u001b[32mdbl\u001b[39m  (6): start_station_id, end_station_id, start_lat, start_lng, end_lat, e...\n",
      "\u001b[34mdttm\u001b[39m (2): started_at, ended_at\n",
      "\n",
      "\u001b[36mℹ\u001b[39m Use `spec()` to retrieve the full column specification for this data.\n",
      "\u001b[36mℹ\u001b[39m Specify the column types or set `show_col_types = FALSE` to quiet this message.\n",
      "\u001b[1mRows: \u001b[22m\u001b[34m84776\u001b[39m \u001b[1mColumns: \u001b[22m\u001b[34m13\u001b[39m\n",
      "\u001b[36m──\u001b[39m \u001b[1mColumn specification\u001b[22m \u001b[36m────────────────────────────────────────────────────────────────────────────────────────────────\u001b[39m\n",
      "\u001b[1mDelimiter:\u001b[22m \",\"\n",
      "\u001b[31mchr\u001b[39m  (5): ride_id, rideable_type, start_station_name, end_station_name, memb...\n",
      "\u001b[32mdbl\u001b[39m  (6): start_station_id, end_station_id, start_lat, start_lng, end_lat, e...\n",
      "\u001b[34mdttm\u001b[39m (2): started_at, ended_at\n",
      "\n",
      "\u001b[36mℹ\u001b[39m Use `spec()` to retrieve the full column specification for this data.\n",
      "\u001b[36mℹ\u001b[39m Specify the column types or set `show_col_types = FALSE` to quiet this message.\n",
      "\u001b[1mRows: \u001b[22m\u001b[34m200274\u001b[39m \u001b[1mColumns: \u001b[22m\u001b[34m13\u001b[39m\n",
      "\u001b[36m──\u001b[39m \u001b[1mColumn specification\u001b[22m \u001b[36m────────────────────────────────────────────────────────────────────────────────────────────────\u001b[39m\n",
      "\u001b[1mDelimiter:\u001b[22m \",\"\n",
      "\u001b[31mchr\u001b[39m  (5): ride_id, rideable_type, start_station_name, end_station_name, memb...\n",
      "\u001b[32mdbl\u001b[39m  (6): start_station_id, end_station_id, start_lat, start_lng, end_lat, e...\n",
      "\u001b[34mdttm\u001b[39m (2): started_at, ended_at\n",
      "\n",
      "\u001b[36mℹ\u001b[39m Use `spec()` to retrieve the full column specification for this data.\n",
      "\u001b[36mℹ\u001b[39m Specify the column types or set `show_col_types = FALSE` to quiet this message.\n",
      "\u001b[1mRows: \u001b[22m\u001b[34m343005\u001b[39m \u001b[1mColumns: \u001b[22m\u001b[34m13\u001b[39m\n",
      "\u001b[36m──\u001b[39m \u001b[1mColumn specification\u001b[22m \u001b[36m────────────────────────────────────────────────────────────────────────────────────────────────\u001b[39m\n",
      "\u001b[1mDelimiter:\u001b[22m \",\"\n",
      "\u001b[31mchr\u001b[39m  (5): ride_id, rideable_type, start_station_name, end_station_name, memb...\n",
      "\u001b[32mdbl\u001b[39m  (6): start_station_id, end_station_id, start_lat, start_lng, end_lat, e...\n",
      "\u001b[34mdttm\u001b[39m (2): started_at, ended_at\n",
      "\n",
      "\u001b[36mℹ\u001b[39m Use `spec()` to retrieve the full column specification for this data.\n",
      "\u001b[36mℹ\u001b[39m Specify the column types or set `show_col_types = FALSE` to quiet this message.\n",
      "\u001b[1mRows: \u001b[22m\u001b[34m551480\u001b[39m \u001b[1mColumns: \u001b[22m\u001b[34m13\u001b[39m\n",
      "\u001b[36m──\u001b[39m \u001b[1mColumn specification\u001b[22m \u001b[36m────────────────────────────────────────────────────────────────────────────────────────────────\u001b[39m\n",
      "\u001b[1mDelimiter:\u001b[22m \",\"\n",
      "\u001b[31mchr\u001b[39m  (5): ride_id, rideable_type, start_station_name, end_station_name, memb...\n",
      "\u001b[32mdbl\u001b[39m  (6): start_station_id, end_station_id, start_lat, start_lng, end_lat, e...\n",
      "\u001b[34mdttm\u001b[39m (2): started_at, ended_at\n",
      "\n",
      "\u001b[36mℹ\u001b[39m Use `spec()` to retrieve the full column specification for this data.\n",
      "\u001b[36mℹ\u001b[39m Specify the column types or set `show_col_types = FALSE` to quiet this message.\n",
      "\u001b[1mRows: \u001b[22m\u001b[34m622361\u001b[39m \u001b[1mColumns: \u001b[22m\u001b[34m13\u001b[39m\n",
      "\u001b[36m──\u001b[39m \u001b[1mColumn specification\u001b[22m \u001b[36m────────────────────────────────────────────────────────────────────────────────────────────────\u001b[39m\n",
      "\u001b[1mDelimiter:\u001b[22m \",\"\n",
      "\u001b[31mchr\u001b[39m  (5): ride_id, rideable_type, start_station_name, end_station_name, memb...\n",
      "\u001b[32mdbl\u001b[39m  (6): start_station_id, end_station_id, start_lat, start_lng, end_lat, e...\n",
      "\u001b[34mdttm\u001b[39m (2): started_at, ended_at\n",
      "\n",
      "\u001b[36mℹ\u001b[39m Use `spec()` to retrieve the full column specification for this data.\n",
      "\u001b[36mℹ\u001b[39m Specify the column types or set `show_col_types = FALSE` to quiet this message.\n",
      "\u001b[1mRows: \u001b[22m\u001b[34m532958\u001b[39m \u001b[1mColumns: \u001b[22m\u001b[34m13\u001b[39m\n",
      "\u001b[36m──\u001b[39m \u001b[1mColumn specification\u001b[22m \u001b[36m────────────────────────────────────────────────────────────────────────────────────────────────\u001b[39m\n",
      "\u001b[1mDelimiter:\u001b[22m \",\"\n",
      "\u001b[31mchr\u001b[39m  (5): ride_id, rideable_type, start_station_name, end_station_name, memb...\n",
      "\u001b[32mdbl\u001b[39m  (6): start_station_id, end_station_id, start_lat, start_lng, end_lat, e...\n",
      "\u001b[34mdttm\u001b[39m (2): started_at, ended_at\n",
      "\n",
      "\u001b[36mℹ\u001b[39m Use `spec()` to retrieve the full column specification for this data.\n",
      "\u001b[36mℹ\u001b[39m Specify the column types or set `show_col_types = FALSE` to quiet this message.\n",
      "\u001b[1mRows: \u001b[22m\u001b[34m388653\u001b[39m \u001b[1mColumns: \u001b[22m\u001b[34m13\u001b[39m\n",
      "\u001b[36m──\u001b[39m \u001b[1mColumn specification\u001b[22m \u001b[36m────────────────────────────────────────────────────────────────────────────────────────────────\u001b[39m\n",
      "\u001b[1mDelimiter:\u001b[22m \",\"\n",
      "\u001b[31mchr\u001b[39m  (5): ride_id, rideable_type, start_station_name, end_station_name, memb...\n",
      "\u001b[32mdbl\u001b[39m  (6): start_station_id, end_station_id, start_lat, start_lng, end_lat, e...\n",
      "\u001b[34mdttm\u001b[39m (2): started_at, ended_at\n",
      "\n",
      "\u001b[36mℹ\u001b[39m Use `spec()` to retrieve the full column specification for this data.\n",
      "\u001b[36mℹ\u001b[39m Specify the column types or set `show_col_types = FALSE` to quiet this message.\n",
      "\u001b[1mRows: \u001b[22m\u001b[34m259716\u001b[39m \u001b[1mColumns: \u001b[22m\u001b[34m13\u001b[39m\n",
      "\u001b[36m──\u001b[39m \u001b[1mColumn specification\u001b[22m \u001b[36m────────────────────────────────────────────────────────────────────────────────────────────────\u001b[39m\n",
      "\u001b[1mDelimiter:\u001b[22m \",\"\n",
      "\u001b[31mchr\u001b[39m  (5): ride_id, rideable_type, start_station_name, end_station_name, memb...\n",
      "\u001b[32mdbl\u001b[39m  (6): start_station_id, end_station_id, start_lat, start_lng, end_lat, e...\n",
      "\u001b[34mdttm\u001b[39m (2): started_at, ended_at\n",
      "\n",
      "\u001b[36mℹ\u001b[39m Use `spec()` to retrieve the full column specification for this data.\n",
      "\u001b[36mℹ\u001b[39m Specify the column types or set `show_col_types = FALSE` to quiet this message.\n",
      "\u001b[1mRows: \u001b[22m\u001b[34m131573\u001b[39m \u001b[1mColumns: \u001b[22m\u001b[34m13\u001b[39m\n",
      "\u001b[36m──\u001b[39m \u001b[1mColumn specification\u001b[22m \u001b[36m────────────────────────────────────────────────────────────────────────────────────────────────\u001b[39m\n",
      "\u001b[1mDelimiter:\u001b[22m \",\"\n",
      "\u001b[31mchr\u001b[39m  (7): ride_id, rideable_type, start_station_name, start_station_id, end_...\n",
      "\u001b[32mdbl\u001b[39m  (4): start_lat, start_lng, end_lat, end_lng\n",
      "\u001b[34mdttm\u001b[39m (2): started_at, ended_at\n",
      "\n",
      "\u001b[36mℹ\u001b[39m Use `spec()` to retrieve the full column specification for this data.\n",
      "\u001b[36mℹ\u001b[39m Specify the column types or set `show_col_types = FALSE` to quiet this message.\n"
     ]
    }
   ],
   "source": [
    "#2020\n",
    "#2020 data\n",
    "df_20q1 = read_csv(\"data\\\\Divvy_Trips_2020_Q1.csv\")\n",
    "\n",
    "df_2004 = read_csv(\"data\\\\202004-divvy-tripdata.csv\")\n",
    "df_2005 = read_csv(\"data\\\\202005-divvy-tripdata.csv\")\n",
    "df_2006 = read_csv(\"data\\\\202006-divvy-tripdata.csv\")\n",
    "df_2007 = read_csv(\"data\\\\202007-divvy-tripdata.csv\")\n",
    "df_2008 = read_csv(\"data\\\\202008-divvy-tripdata.csv\")\n",
    "df_2009 = read_csv(\"data\\\\202009-divvy-tripdata.csv\")\n",
    "df_2010 = read_csv(\"data\\\\202010-divvy-tripdata.csv\")\n",
    "df_2011 = read_csv(\"data\\\\202011-divvy-tripdata.csv\")\n",
    "df_2012 = read_csv(\"data\\\\202012-divvy-tripdata.csv\")"
   ]
  },
  {
   "cell_type": "code",
   "execution_count": 42,
   "id": "f9148f1e-b106-46f9-a9fb-2521581f1059",
   "metadata": {},
   "outputs": [],
   "source": [
    "df_20 = rbind(df_20q1, df_2004, df_2005, df_2006, df_2007, df_2008, df_2009, df_2010, df_2011, df_2012)"
   ]
  },
  {
   "cell_type": "code",
   "execution_count": 43,
   "id": "2f283c1d-ee14-40a0-95b4-fc92e063198a",
   "metadata": {},
   "outputs": [
    {
     "name": "stderr",
     "output_type": "stream",
     "text": [
      "\u001b[1mRows: \u001b[22m\u001b[34m96834\u001b[39m \u001b[1mColumns: \u001b[22m\u001b[34m13\u001b[39m\n",
      "\u001b[36m──\u001b[39m \u001b[1mColumn specification\u001b[22m \u001b[36m────────────────────────────────────────────────────────────────────────────────────────────────\u001b[39m\n",
      "\u001b[1mDelimiter:\u001b[22m \",\"\n",
      "\u001b[31mchr\u001b[39m  (7): ride_id, rideable_type, start_station_name, start_station_id, end_...\n",
      "\u001b[32mdbl\u001b[39m  (4): start_lat, start_lng, end_lat, end_lng\n",
      "\u001b[34mdttm\u001b[39m (2): started_at, ended_at\n",
      "\n",
      "\u001b[36mℹ\u001b[39m Use `spec()` to retrieve the full column specification for this data.\n",
      "\u001b[36mℹ\u001b[39m Specify the column types or set `show_col_types = FALSE` to quiet this message.\n",
      "\u001b[1mRows: \u001b[22m\u001b[34m49622\u001b[39m \u001b[1mColumns: \u001b[22m\u001b[34m13\u001b[39m\n",
      "\u001b[36m──\u001b[39m \u001b[1mColumn specification\u001b[22m \u001b[36m────────────────────────────────────────────────────────────────────────────────────────────────\u001b[39m\n",
      "\u001b[1mDelimiter:\u001b[22m \",\"\n",
      "\u001b[31mchr\u001b[39m  (7): ride_id, rideable_type, start_station_name, start_station_id, end_...\n",
      "\u001b[32mdbl\u001b[39m  (4): start_lat, start_lng, end_lat, end_lng\n",
      "\u001b[34mdttm\u001b[39m (2): started_at, ended_at\n",
      "\n",
      "\u001b[36mℹ\u001b[39m Use `spec()` to retrieve the full column specification for this data.\n",
      "\u001b[36mℹ\u001b[39m Specify the column types or set `show_col_types = FALSE` to quiet this message.\n",
      "\u001b[1mRows: \u001b[22m\u001b[34m228496\u001b[39m \u001b[1mColumns: \u001b[22m\u001b[34m13\u001b[39m\n",
      "\u001b[36m──\u001b[39m \u001b[1mColumn specification\u001b[22m \u001b[36m────────────────────────────────────────────────────────────────────────────────────────────────\u001b[39m\n",
      "\u001b[1mDelimiter:\u001b[22m \",\"\n",
      "\u001b[31mchr\u001b[39m  (7): ride_id, rideable_type, start_station_name, start_station_id, end_...\n",
      "\u001b[32mdbl\u001b[39m  (4): start_lat, start_lng, end_lat, end_lng\n",
      "\u001b[34mdttm\u001b[39m (2): started_at, ended_at\n",
      "\n",
      "\u001b[36mℹ\u001b[39m Use `spec()` to retrieve the full column specification for this data.\n",
      "\u001b[36mℹ\u001b[39m Specify the column types or set `show_col_types = FALSE` to quiet this message.\n",
      "\u001b[1mRows: \u001b[22m\u001b[34m337230\u001b[39m \u001b[1mColumns: \u001b[22m\u001b[34m13\u001b[39m\n",
      "\u001b[36m──\u001b[39m \u001b[1mColumn specification\u001b[22m \u001b[36m────────────────────────────────────────────────────────────────────────────────────────────────\u001b[39m\n",
      "\u001b[1mDelimiter:\u001b[22m \",\"\n",
      "\u001b[31mchr\u001b[39m  (7): ride_id, rideable_type, start_station_name, start_station_id, end_...\n",
      "\u001b[32mdbl\u001b[39m  (4): start_lat, start_lng, end_lat, end_lng\n",
      "\u001b[34mdttm\u001b[39m (2): started_at, ended_at\n",
      "\n",
      "\u001b[36mℹ\u001b[39m Use `spec()` to retrieve the full column specification for this data.\n",
      "\u001b[36mℹ\u001b[39m Specify the column types or set `show_col_types = FALSE` to quiet this message.\n",
      "\u001b[1mRows: \u001b[22m\u001b[34m531633\u001b[39m \u001b[1mColumns: \u001b[22m\u001b[34m13\u001b[39m\n",
      "\u001b[36m──\u001b[39m \u001b[1mColumn specification\u001b[22m \u001b[36m────────────────────────────────────────────────────────────────────────────────────────────────\u001b[39m\n",
      "\u001b[1mDelimiter:\u001b[22m \",\"\n",
      "\u001b[31mchr\u001b[39m  (7): ride_id, rideable_type, start_station_name, start_station_id, end_...\n",
      "\u001b[32mdbl\u001b[39m  (4): start_lat, start_lng, end_lat, end_lng\n",
      "\u001b[34mdttm\u001b[39m (2): started_at, ended_at\n",
      "\n",
      "\u001b[36mℹ\u001b[39m Use `spec()` to retrieve the full column specification for this data.\n",
      "\u001b[36mℹ\u001b[39m Specify the column types or set `show_col_types = FALSE` to quiet this message.\n",
      "\u001b[1mRows: \u001b[22m\u001b[34m729595\u001b[39m \u001b[1mColumns: \u001b[22m\u001b[34m13\u001b[39m\n",
      "\u001b[36m──\u001b[39m \u001b[1mColumn specification\u001b[22m \u001b[36m────────────────────────────────────────────────────────────────────────────────────────────────\u001b[39m\n",
      "\u001b[1mDelimiter:\u001b[22m \",\"\n",
      "\u001b[31mchr\u001b[39m  (7): ride_id, rideable_type, start_station_name, start_station_id, end_...\n",
      "\u001b[32mdbl\u001b[39m  (4): start_lat, start_lng, end_lat, end_lng\n",
      "\u001b[34mdttm\u001b[39m (2): started_at, ended_at\n",
      "\n",
      "\u001b[36mℹ\u001b[39m Use `spec()` to retrieve the full column specification for this data.\n",
      "\u001b[36mℹ\u001b[39m Specify the column types or set `show_col_types = FALSE` to quiet this message.\n",
      "\u001b[1mRows: \u001b[22m\u001b[34m822410\u001b[39m \u001b[1mColumns: \u001b[22m\u001b[34m13\u001b[39m\n",
      "\u001b[36m──\u001b[39m \u001b[1mColumn specification\u001b[22m \u001b[36m────────────────────────────────────────────────────────────────────────────────────────────────\u001b[39m\n",
      "\u001b[1mDelimiter:\u001b[22m \",\"\n",
      "\u001b[31mchr\u001b[39m  (7): ride_id, rideable_type, start_station_name, start_station_id, end_...\n",
      "\u001b[32mdbl\u001b[39m  (4): start_lat, start_lng, end_lat, end_lng\n",
      "\u001b[34mdttm\u001b[39m (2): started_at, ended_at\n",
      "\n",
      "\u001b[36mℹ\u001b[39m Use `spec()` to retrieve the full column specification for this data.\n",
      "\u001b[36mℹ\u001b[39m Specify the column types or set `show_col_types = FALSE` to quiet this message.\n",
      "\u001b[1mRows: \u001b[22m\u001b[34m804352\u001b[39m \u001b[1mColumns: \u001b[22m\u001b[34m13\u001b[39m\n",
      "\u001b[36m──\u001b[39m \u001b[1mColumn specification\u001b[22m \u001b[36m────────────────────────────────────────────────────────────────────────────────────────────────\u001b[39m\n",
      "\u001b[1mDelimiter:\u001b[22m \",\"\n",
      "\u001b[31mchr\u001b[39m  (7): ride_id, rideable_type, start_station_name, start_station_id, end_...\n",
      "\u001b[32mdbl\u001b[39m  (4): start_lat, start_lng, end_lat, end_lng\n",
      "\u001b[34mdttm\u001b[39m (2): started_at, ended_at\n",
      "\n",
      "\u001b[36mℹ\u001b[39m Use `spec()` to retrieve the full column specification for this data.\n",
      "\u001b[36mℹ\u001b[39m Specify the column types or set `show_col_types = FALSE` to quiet this message.\n",
      "\u001b[1mRows: \u001b[22m\u001b[34m756147\u001b[39m \u001b[1mColumns: \u001b[22m\u001b[34m13\u001b[39m\n",
      "\u001b[36m──\u001b[39m \u001b[1mColumn specification\u001b[22m \u001b[36m────────────────────────────────────────────────────────────────────────────────────────────────\u001b[39m\n",
      "\u001b[1mDelimiter:\u001b[22m \",\"\n",
      "\u001b[31mchr\u001b[39m  (7): ride_id, rideable_type, start_station_name, start_station_id, end_...\n",
      "\u001b[32mdbl\u001b[39m  (4): start_lat, start_lng, end_lat, end_lng\n",
      "\u001b[34mdttm\u001b[39m (2): started_at, ended_at\n",
      "\n",
      "\u001b[36mℹ\u001b[39m Use `spec()` to retrieve the full column specification for this data.\n",
      "\u001b[36mℹ\u001b[39m Specify the column types or set `show_col_types = FALSE` to quiet this message.\n",
      "\u001b[1mRows: \u001b[22m\u001b[34m631226\u001b[39m \u001b[1mColumns: \u001b[22m\u001b[34m13\u001b[39m\n",
      "\u001b[36m──\u001b[39m \u001b[1mColumn specification\u001b[22m \u001b[36m────────────────────────────────────────────────────────────────────────────────────────────────\u001b[39m\n",
      "\u001b[1mDelimiter:\u001b[22m \",\"\n",
      "\u001b[31mchr\u001b[39m  (7): ride_id, rideable_type, start_station_name, start_station_id, end_...\n",
      "\u001b[32mdbl\u001b[39m  (4): start_lat, start_lng, end_lat, end_lng\n",
      "\u001b[34mdttm\u001b[39m (2): started_at, ended_at\n",
      "\n",
      "\u001b[36mℹ\u001b[39m Use `spec()` to retrieve the full column specification for this data.\n",
      "\u001b[36mℹ\u001b[39m Specify the column types or set `show_col_types = FALSE` to quiet this message.\n",
      "\u001b[1mRows: \u001b[22m\u001b[34m359978\u001b[39m \u001b[1mColumns: \u001b[22m\u001b[34m13\u001b[39m\n",
      "\u001b[36m──\u001b[39m \u001b[1mColumn specification\u001b[22m \u001b[36m────────────────────────────────────────────────────────────────────────────────────────────────\u001b[39m\n",
      "\u001b[1mDelimiter:\u001b[22m \",\"\n",
      "\u001b[31mchr\u001b[39m  (7): ride_id, rideable_type, start_station_name, start_station_id, end_...\n",
      "\u001b[32mdbl\u001b[39m  (4): start_lat, start_lng, end_lat, end_lng\n",
      "\u001b[34mdttm\u001b[39m (2): started_at, ended_at\n",
      "\n",
      "\u001b[36mℹ\u001b[39m Use `spec()` to retrieve the full column specification for this data.\n",
      "\u001b[36mℹ\u001b[39m Specify the column types or set `show_col_types = FALSE` to quiet this message.\n",
      "\u001b[1mRows: \u001b[22m\u001b[34m247540\u001b[39m \u001b[1mColumns: \u001b[22m\u001b[34m13\u001b[39m\n",
      "\u001b[36m──\u001b[39m \u001b[1mColumn specification\u001b[22m \u001b[36m────────────────────────────────────────────────────────────────────────────────────────────────\u001b[39m\n",
      "\u001b[1mDelimiter:\u001b[22m \",\"\n",
      "\u001b[31mchr\u001b[39m  (7): ride_id, rideable_type, start_station_name, start_station_id, end_...\n",
      "\u001b[32mdbl\u001b[39m  (4): start_lat, start_lng, end_lat, end_lng\n",
      "\u001b[34mdttm\u001b[39m (2): started_at, ended_at\n",
      "\n",
      "\u001b[36mℹ\u001b[39m Use `spec()` to retrieve the full column specification for this data.\n",
      "\u001b[36mℹ\u001b[39m Specify the column types or set `show_col_types = FALSE` to quiet this message.\n"
     ]
    }
   ],
   "source": [
    "## 2021 data\n",
    "\n",
    "##2021 data\n",
    "df_2101 = read_csv(\"data\\\\202101-divvy-tripdata.csv\")\n",
    "df_2102 = read_csv(\"data\\\\202102-divvy-tripdata.csv\")\n",
    "df_2103 = read_csv(\"data\\\\202103-divvy-tripdata.csv\")\n",
    "df_2104 = read_csv(\"data\\\\202104-divvy-tripdata.csv\")\n",
    "df_2105 = read_csv(\"data\\\\202105-divvy-tripdata.csv\")\n",
    "df_2106 = read_csv(\"data\\\\202106-divvy-tripdata.csv\")\n",
    "df_2107 = read_csv(\"data\\\\202107-divvy-tripdata.csv\")\n",
    "df_2108 = read_csv(\"data\\\\202108-divvy-tripdata.csv\")\n",
    "df_2109 = read_csv(\"data\\\\202109-divvy-tripdata.csv\")\n",
    "df_2110 = read_csv(\"data\\\\202110-divvy-tripdata.csv\")\n",
    "df_2111 = read_csv(\"data\\\\202111-divvy-tripdata.csv\")\n",
    "df_2112 = read_csv(\"data\\\\202112-divvy-tripdata.csv\")\n",
    "#bind\n",
    "df_21  =rbind(df_2101, df_2102, df_2103, df_2104,df_2105, df_2106, df_2107, \n",
    "              df_2108, df_2109, df_2110, df_2111, df_2112)"
   ]
  },
  {
   "cell_type": "code",
   "execution_count": 44,
   "id": "ddb9d25f-35ce-41c4-a0b9-72c2f3f394de",
   "metadata": {},
   "outputs": [
    {
     "data": {
      "text/html": [
       "<table class=\"dataframe\">\n",
       "<caption>A tibble: 6 × 13</caption>\n",
       "<thead>\n",
       "\t<tr><th scope=col>ride_id</th><th scope=col>rideable_type</th><th scope=col>started_at</th><th scope=col>ended_at</th><th scope=col>start_station_name</th><th scope=col>start_station_id</th><th scope=col>end_station_name</th><th scope=col>end_station_id</th><th scope=col>start_lat</th><th scope=col>start_lng</th><th scope=col>end_lat</th><th scope=col>end_lng</th><th scope=col>member_casual</th></tr>\n",
       "\t<tr><th scope=col>&lt;chr&gt;</th><th scope=col>&lt;chr&gt;</th><th scope=col>&lt;dttm&gt;</th><th scope=col>&lt;dttm&gt;</th><th scope=col>&lt;chr&gt;</th><th scope=col>&lt;chr&gt;</th><th scope=col>&lt;chr&gt;</th><th scope=col>&lt;chr&gt;</th><th scope=col>&lt;dbl&gt;</th><th scope=col>&lt;dbl&gt;</th><th scope=col>&lt;dbl&gt;</th><th scope=col>&lt;dbl&gt;</th><th scope=col>&lt;chr&gt;</th></tr>\n",
       "</thead>\n",
       "<tbody>\n",
       "\t<tr><td>E19E6F1B8D4C42ED</td><td>electric_bike</td><td>2021-01-23 16:14:19</td><td>2021-01-23 16:24:44</td><td>California Ave &amp; Cortez St</td><td>17660</td><td>NA</td><td>NA</td><td>41.90034</td><td>-87.69674</td><td>41.89</td><td>-87.72</td><td>member</td></tr>\n",
       "\t<tr><td>DC88F20C2C55F27F</td><td>electric_bike</td><td>2021-01-27 18:43:08</td><td>2021-01-27 18:47:12</td><td>California Ave &amp; Cortez St</td><td>17660</td><td>NA</td><td>NA</td><td>41.90033</td><td>-87.69671</td><td>41.90</td><td>-87.69</td><td>member</td></tr>\n",
       "\t<tr><td>EC45C94683FE3F27</td><td>electric_bike</td><td>2021-01-21 22:35:54</td><td>2021-01-21 22:37:14</td><td>California Ave &amp; Cortez St</td><td>17660</td><td>NA</td><td>NA</td><td>41.90031</td><td>-87.69664</td><td>41.90</td><td>-87.70</td><td>member</td></tr>\n",
       "\t<tr><td>4FA453A75AE377DB</td><td>electric_bike</td><td>2021-01-07 13:31:13</td><td>2021-01-07 13:42:55</td><td>California Ave &amp; Cortez St</td><td>17660</td><td>NA</td><td>NA</td><td>41.90040</td><td>-87.69666</td><td>41.92</td><td>-87.69</td><td>member</td></tr>\n",
       "\t<tr><td>BE5E8EB4E7263A0B</td><td>electric_bike</td><td>2021-01-23 02:24:02</td><td>2021-01-23 02:24:45</td><td>California Ave &amp; Cortez St</td><td>17660</td><td>NA</td><td>NA</td><td>41.90033</td><td>-87.69670</td><td>41.90</td><td>-87.70</td><td>casual</td></tr>\n",
       "\t<tr><td>5D8969F88C773979</td><td>electric_bike</td><td>2021-01-09 14:24:07</td><td>2021-01-09 15:17:54</td><td>California Ave &amp; Cortez St</td><td>17660</td><td>NA</td><td>NA</td><td>41.90041</td><td>-87.69676</td><td>41.94</td><td>-87.71</td><td>casual</td></tr>\n",
       "</tbody>\n",
       "</table>\n"
      ],
      "text/latex": [
       "A tibble: 6 × 13\n",
       "\\begin{tabular}{lllllllllllll}\n",
       " ride\\_id & rideable\\_type & started\\_at & ended\\_at & start\\_station\\_name & start\\_station\\_id & end\\_station\\_name & end\\_station\\_id & start\\_lat & start\\_lng & end\\_lat & end\\_lng & member\\_casual\\\\\n",
       " <chr> & <chr> & <dttm> & <dttm> & <chr> & <chr> & <chr> & <chr> & <dbl> & <dbl> & <dbl> & <dbl> & <chr>\\\\\n",
       "\\hline\n",
       "\t E19E6F1B8D4C42ED & electric\\_bike & 2021-01-23 16:14:19 & 2021-01-23 16:24:44 & California Ave \\& Cortez St & 17660 & NA & NA & 41.90034 & -87.69674 & 41.89 & -87.72 & member\\\\\n",
       "\t DC88F20C2C55F27F & electric\\_bike & 2021-01-27 18:43:08 & 2021-01-27 18:47:12 & California Ave \\& Cortez St & 17660 & NA & NA & 41.90033 & -87.69671 & 41.90 & -87.69 & member\\\\\n",
       "\t EC45C94683FE3F27 & electric\\_bike & 2021-01-21 22:35:54 & 2021-01-21 22:37:14 & California Ave \\& Cortez St & 17660 & NA & NA & 41.90031 & -87.69664 & 41.90 & -87.70 & member\\\\\n",
       "\t 4FA453A75AE377DB & electric\\_bike & 2021-01-07 13:31:13 & 2021-01-07 13:42:55 & California Ave \\& Cortez St & 17660 & NA & NA & 41.90040 & -87.69666 & 41.92 & -87.69 & member\\\\\n",
       "\t BE5E8EB4E7263A0B & electric\\_bike & 2021-01-23 02:24:02 & 2021-01-23 02:24:45 & California Ave \\& Cortez St & 17660 & NA & NA & 41.90033 & -87.69670 & 41.90 & -87.70 & casual\\\\\n",
       "\t 5D8969F88C773979 & electric\\_bike & 2021-01-09 14:24:07 & 2021-01-09 15:17:54 & California Ave \\& Cortez St & 17660 & NA & NA & 41.90041 & -87.69676 & 41.94 & -87.71 & casual\\\\\n",
       "\\end{tabular}\n"
      ],
      "text/markdown": [
       "\n",
       "A tibble: 6 × 13\n",
       "\n",
       "| ride_id &lt;chr&gt; | rideable_type &lt;chr&gt; | started_at &lt;dttm&gt; | ended_at &lt;dttm&gt; | start_station_name &lt;chr&gt; | start_station_id &lt;chr&gt; | end_station_name &lt;chr&gt; | end_station_id &lt;chr&gt; | start_lat &lt;dbl&gt; | start_lng &lt;dbl&gt; | end_lat &lt;dbl&gt; | end_lng &lt;dbl&gt; | member_casual &lt;chr&gt; |\n",
       "|---|---|---|---|---|---|---|---|---|---|---|---|---|\n",
       "| E19E6F1B8D4C42ED | electric_bike | 2021-01-23 16:14:19 | 2021-01-23 16:24:44 | California Ave &amp; Cortez St | 17660 | NA | NA | 41.90034 | -87.69674 | 41.89 | -87.72 | member |\n",
       "| DC88F20C2C55F27F | electric_bike | 2021-01-27 18:43:08 | 2021-01-27 18:47:12 | California Ave &amp; Cortez St | 17660 | NA | NA | 41.90033 | -87.69671 | 41.90 | -87.69 | member |\n",
       "| EC45C94683FE3F27 | electric_bike | 2021-01-21 22:35:54 | 2021-01-21 22:37:14 | California Ave &amp; Cortez St | 17660 | NA | NA | 41.90031 | -87.69664 | 41.90 | -87.70 | member |\n",
       "| 4FA453A75AE377DB | electric_bike | 2021-01-07 13:31:13 | 2021-01-07 13:42:55 | California Ave &amp; Cortez St | 17660 | NA | NA | 41.90040 | -87.69666 | 41.92 | -87.69 | member |\n",
       "| BE5E8EB4E7263A0B | electric_bike | 2021-01-23 02:24:02 | 2021-01-23 02:24:45 | California Ave &amp; Cortez St | 17660 | NA | NA | 41.90033 | -87.69670 | 41.90 | -87.70 | casual |\n",
       "| 5D8969F88C773979 | electric_bike | 2021-01-09 14:24:07 | 2021-01-09 15:17:54 | California Ave &amp; Cortez St | 17660 | NA | NA | 41.90041 | -87.69676 | 41.94 | -87.71 | casual |\n",
       "\n"
      ],
      "text/plain": [
       "  ride_id          rideable_type started_at          ended_at           \n",
       "1 E19E6F1B8D4C42ED electric_bike 2021-01-23 16:14:19 2021-01-23 16:24:44\n",
       "2 DC88F20C2C55F27F electric_bike 2021-01-27 18:43:08 2021-01-27 18:47:12\n",
       "3 EC45C94683FE3F27 electric_bike 2021-01-21 22:35:54 2021-01-21 22:37:14\n",
       "4 4FA453A75AE377DB electric_bike 2021-01-07 13:31:13 2021-01-07 13:42:55\n",
       "5 BE5E8EB4E7263A0B electric_bike 2021-01-23 02:24:02 2021-01-23 02:24:45\n",
       "6 5D8969F88C773979 electric_bike 2021-01-09 14:24:07 2021-01-09 15:17:54\n",
       "  start_station_name         start_station_id end_station_name end_station_id\n",
       "1 California Ave & Cortez St 17660            NA               NA            \n",
       "2 California Ave & Cortez St 17660            NA               NA            \n",
       "3 California Ave & Cortez St 17660            NA               NA            \n",
       "4 California Ave & Cortez St 17660            NA               NA            \n",
       "5 California Ave & Cortez St 17660            NA               NA            \n",
       "6 California Ave & Cortez St 17660            NA               NA            \n",
       "  start_lat start_lng end_lat end_lng member_casual\n",
       "1 41.90034  -87.69674 41.89   -87.72  member       \n",
       "2 41.90033  -87.69671 41.90   -87.69  member       \n",
       "3 41.90031  -87.69664 41.90   -87.70  member       \n",
       "4 41.90040  -87.69666 41.92   -87.69  member       \n",
       "5 41.90033  -87.69670 41.90   -87.70  casual       \n",
       "6 41.90041  -87.69676 41.94   -87.71  casual       "
      ]
     },
     "metadata": {},
     "output_type": "display_data"
    }
   ],
   "source": [
    "df_21 %>% head()"
   ]
  },
  {
   "cell_type": "code",
   "execution_count": 45,
   "id": "45294fa6-7c76-4198-a137-060e06c82624",
   "metadata": {},
   "outputs": [
    {
     "name": "stderr",
     "output_type": "stream",
     "text": [
      "\u001b[1mRows: \u001b[22m\u001b[34m103770\u001b[39m \u001b[1mColumns: \u001b[22m\u001b[34m13\u001b[39m\n",
      "\u001b[36m──\u001b[39m \u001b[1mColumn specification\u001b[22m \u001b[36m────────────────────────────────────────────────────────────────────────────────────────────────\u001b[39m\n",
      "\u001b[1mDelimiter:\u001b[22m \",\"\n",
      "\u001b[31mchr\u001b[39m  (7): ride_id, rideable_type, start_station_name, start_station_id, end_...\n",
      "\u001b[32mdbl\u001b[39m  (4): start_lat, start_lng, end_lat, end_lng\n",
      "\u001b[34mdttm\u001b[39m (2): started_at, ended_at\n",
      "\n",
      "\u001b[36mℹ\u001b[39m Use `spec()` to retrieve the full column specification for this data.\n",
      "\u001b[36mℹ\u001b[39m Specify the column types or set `show_col_types = FALSE` to quiet this message.\n",
      "\u001b[1mRows: \u001b[22m\u001b[34m115609\u001b[39m \u001b[1mColumns: \u001b[22m\u001b[34m13\u001b[39m\n",
      "\u001b[36m──\u001b[39m \u001b[1mColumn specification\u001b[22m \u001b[36m────────────────────────────────────────────────────────────────────────────────────────────────\u001b[39m\n",
      "\u001b[1mDelimiter:\u001b[22m \",\"\n",
      "\u001b[31mchr\u001b[39m  (7): ride_id, rideable_type, start_station_name, start_station_id, end_...\n",
      "\u001b[32mdbl\u001b[39m  (4): start_lat, start_lng, end_lat, end_lng\n",
      "\u001b[34mdttm\u001b[39m (2): started_at, ended_at\n",
      "\n",
      "\u001b[36mℹ\u001b[39m Use `spec()` to retrieve the full column specification for this data.\n",
      "\u001b[36mℹ\u001b[39m Specify the column types or set `show_col_types = FALSE` to quiet this message.\n",
      "\u001b[1mRows: \u001b[22m\u001b[34m284042\u001b[39m \u001b[1mColumns: \u001b[22m\u001b[34m13\u001b[39m\n",
      "\u001b[36m──\u001b[39m \u001b[1mColumn specification\u001b[22m \u001b[36m────────────────────────────────────────────────────────────────────────────────────────────────\u001b[39m\n",
      "\u001b[1mDelimiter:\u001b[22m \",\"\n",
      "\u001b[31mchr\u001b[39m  (7): ride_id, rideable_type, start_station_name, start_station_id, end_...\n",
      "\u001b[32mdbl\u001b[39m  (4): start_lat, start_lng, end_lat, end_lng\n",
      "\u001b[34mdttm\u001b[39m (2): started_at, ended_at\n",
      "\n",
      "\u001b[36mℹ\u001b[39m Use `spec()` to retrieve the full column specification for this data.\n",
      "\u001b[36mℹ\u001b[39m Specify the column types or set `show_col_types = FALSE` to quiet this message.\n",
      "\u001b[1mRows: \u001b[22m\u001b[34m371249\u001b[39m \u001b[1mColumns: \u001b[22m\u001b[34m13\u001b[39m\n",
      "\u001b[36m──\u001b[39m \u001b[1mColumn specification\u001b[22m \u001b[36m────────────────────────────────────────────────────────────────────────────────────────────────\u001b[39m\n",
      "\u001b[1mDelimiter:\u001b[22m \",\"\n",
      "\u001b[31mchr\u001b[39m  (7): ride_id, rideable_type, start_station_name, start_station_id, end_...\n",
      "\u001b[32mdbl\u001b[39m  (4): start_lat, start_lng, end_lat, end_lng\n",
      "\u001b[34mdttm\u001b[39m (2): started_at, ended_at\n",
      "\n",
      "\u001b[36mℹ\u001b[39m Use `spec()` to retrieve the full column specification for this data.\n",
      "\u001b[36mℹ\u001b[39m Specify the column types or set `show_col_types = FALSE` to quiet this message.\n",
      "\u001b[1mRows: \u001b[22m\u001b[34m634858\u001b[39m \u001b[1mColumns: \u001b[22m\u001b[34m13\u001b[39m\n",
      "\u001b[36m──\u001b[39m \u001b[1mColumn specification\u001b[22m \u001b[36m────────────────────────────────────────────────────────────────────────────────────────────────\u001b[39m\n",
      "\u001b[1mDelimiter:\u001b[22m \",\"\n",
      "\u001b[31mchr\u001b[39m  (7): ride_id, rideable_type, start_station_name, start_station_id, end_...\n",
      "\u001b[32mdbl\u001b[39m  (4): start_lat, start_lng, end_lat, end_lng\n",
      "\u001b[34mdttm\u001b[39m (2): started_at, ended_at\n",
      "\n",
      "\u001b[36mℹ\u001b[39m Use `spec()` to retrieve the full column specification for this data.\n",
      "\u001b[36mℹ\u001b[39m Specify the column types or set `show_col_types = FALSE` to quiet this message.\n"
     ]
    }
   ],
   "source": [
    "## 2022 data\n",
    "df_2201 = read_csv(\"data\\\\202201-divvy-tripdata.csv\")\n",
    "df_2202 = read_csv(\"data\\\\202202-divvy-tripdata.csv\")\n",
    "df_2203 = read_csv(\"data\\\\202203-divvy-tripdata.csv\")\n",
    "df_2204 = read_csv(\"data\\\\202204-divvy-tripdata.csv\")\n",
    "df_2205 = read_csv(\"data\\\\202205-divvy-tripdata.csv\")\n",
    "\n",
    "df_22 = rbind(df_2201, df_2202, df_2203, df_2204, df_2205)"
   ]
  },
  {
   "cell_type": "code",
   "execution_count": 46,
   "id": "e077bbe1-07cc-4805-97f9-5a3830320d07",
   "metadata": {},
   "outputs": [
    {
     "data": {
      "text/html": [
       "<table class=\"dataframe\">\n",
       "<caption>A tibble: 6 × 13</caption>\n",
       "<thead>\n",
       "\t<tr><th scope=col>ride_id</th><th scope=col>rideable_type</th><th scope=col>started_at</th><th scope=col>ended_at</th><th scope=col>start_station_name</th><th scope=col>start_station_id</th><th scope=col>end_station_name</th><th scope=col>end_station_id</th><th scope=col>start_lat</th><th scope=col>start_lng</th><th scope=col>end_lat</th><th scope=col>end_lng</th><th scope=col>member_casual</th></tr>\n",
       "\t<tr><th scope=col>&lt;chr&gt;</th><th scope=col>&lt;chr&gt;</th><th scope=col>&lt;dttm&gt;</th><th scope=col>&lt;dttm&gt;</th><th scope=col>&lt;chr&gt;</th><th scope=col>&lt;chr&gt;</th><th scope=col>&lt;chr&gt;</th><th scope=col>&lt;chr&gt;</th><th scope=col>&lt;dbl&gt;</th><th scope=col>&lt;dbl&gt;</th><th scope=col>&lt;dbl&gt;</th><th scope=col>&lt;dbl&gt;</th><th scope=col>&lt;chr&gt;</th></tr>\n",
       "</thead>\n",
       "<tbody>\n",
       "\t<tr><td>C2F7DD78E82EC875</td><td>electric_bike</td><td>2022-01-13 11:59:47</td><td>2022-01-13 12:02:44</td><td><span style=white-space:pre-wrap>Glenwood Ave &amp; Touhy Ave     </span></td><td><span style=white-space:pre-wrap>525         </span></td><td><span style=white-space:pre-wrap>Clark St &amp; Touhy Ave         </span></td><td><span style=white-space:pre-wrap>RP-007      </span></td><td>42.01280</td><td>-87.66591</td><td>42.01256</td><td>-87.67437</td><td>casual</td></tr>\n",
       "\t<tr><td>A6CF8980A652D272</td><td>electric_bike</td><td>2022-01-10 08:41:56</td><td>2022-01-10 08:46:17</td><td><span style=white-space:pre-wrap>Glenwood Ave &amp; Touhy Ave     </span></td><td><span style=white-space:pre-wrap>525         </span></td><td><span style=white-space:pre-wrap>Clark St &amp; Touhy Ave         </span></td><td><span style=white-space:pre-wrap>RP-007      </span></td><td>42.01276</td><td>-87.66597</td><td>42.01256</td><td>-87.67437</td><td>casual</td></tr>\n",
       "\t<tr><td>BD0F91DFF741C66D</td><td>classic_bike </td><td>2022-01-25 04:53:40</td><td>2022-01-25 04:58:01</td><td>Sheffield Ave &amp; Fullerton Ave</td><td>TA1306000016</td><td>Greenview Ave &amp; Fullerton Ave</td><td>TA1307000001</td><td>41.92560</td><td>-87.65371</td><td>41.92533</td><td>-87.66580</td><td>member</td></tr>\n",
       "\t<tr><td>CBB80ED419105406</td><td>classic_bike </td><td>2022-01-04 00:18:04</td><td>2022-01-04 00:33:00</td><td><span style=white-space:pre-wrap>Clark St &amp; Bryn Mawr Ave     </span></td><td>KA1504000151</td><td><span style=white-space:pre-wrap>Paulina St &amp; Montrose Ave    </span></td><td>TA1309000021</td><td>41.98359</td><td>-87.66915</td><td>41.96151</td><td>-87.67139</td><td>casual</td></tr>\n",
       "\t<tr><td>DDC963BFDDA51EEA</td><td>classic_bike </td><td>2022-01-20 01:31:10</td><td>2022-01-20 01:37:12</td><td><span style=white-space:pre-wrap>Michigan Ave &amp; Jackson Blvd  </span></td><td>TA1309000002</td><td><span style=white-space:pre-wrap>State St &amp; Randolph St       </span></td><td>TA1305000029</td><td>41.87785</td><td>-87.62408</td><td>41.88462</td><td>-87.62783</td><td>member</td></tr>\n",
       "\t<tr><td>A39C6F6CC0586C0B</td><td>classic_bike </td><td>2022-01-11 18:48:09</td><td>2022-01-11 18:51:31</td><td><span style=white-space:pre-wrap>Wood St &amp; Chicago Ave        </span></td><td><span style=white-space:pre-wrap>637         </span></td><td><span style=white-space:pre-wrap>Honore St &amp; Division St      </span></td><td>TA1305000034</td><td>41.89563</td><td>-87.67207</td><td>41.90312</td><td>-87.67394</td><td>member</td></tr>\n",
       "</tbody>\n",
       "</table>\n"
      ],
      "text/latex": [
       "A tibble: 6 × 13\n",
       "\\begin{tabular}{lllllllllllll}\n",
       " ride\\_id & rideable\\_type & started\\_at & ended\\_at & start\\_station\\_name & start\\_station\\_id & end\\_station\\_name & end\\_station\\_id & start\\_lat & start\\_lng & end\\_lat & end\\_lng & member\\_casual\\\\\n",
       " <chr> & <chr> & <dttm> & <dttm> & <chr> & <chr> & <chr> & <chr> & <dbl> & <dbl> & <dbl> & <dbl> & <chr>\\\\\n",
       "\\hline\n",
       "\t C2F7DD78E82EC875 & electric\\_bike & 2022-01-13 11:59:47 & 2022-01-13 12:02:44 & Glenwood Ave \\& Touhy Ave      & 525          & Clark St \\& Touhy Ave          & RP-007       & 42.01280 & -87.66591 & 42.01256 & -87.67437 & casual\\\\\n",
       "\t A6CF8980A652D272 & electric\\_bike & 2022-01-10 08:41:56 & 2022-01-10 08:46:17 & Glenwood Ave \\& Touhy Ave      & 525          & Clark St \\& Touhy Ave          & RP-007       & 42.01276 & -87.66597 & 42.01256 & -87.67437 & casual\\\\\n",
       "\t BD0F91DFF741C66D & classic\\_bike  & 2022-01-25 04:53:40 & 2022-01-25 04:58:01 & Sheffield Ave \\& Fullerton Ave & TA1306000016 & Greenview Ave \\& Fullerton Ave & TA1307000001 & 41.92560 & -87.65371 & 41.92533 & -87.66580 & member\\\\\n",
       "\t CBB80ED419105406 & classic\\_bike  & 2022-01-04 00:18:04 & 2022-01-04 00:33:00 & Clark St \\& Bryn Mawr Ave      & KA1504000151 & Paulina St \\& Montrose Ave     & TA1309000021 & 41.98359 & -87.66915 & 41.96151 & -87.67139 & casual\\\\\n",
       "\t DDC963BFDDA51EEA & classic\\_bike  & 2022-01-20 01:31:10 & 2022-01-20 01:37:12 & Michigan Ave \\& Jackson Blvd   & TA1309000002 & State St \\& Randolph St        & TA1305000029 & 41.87785 & -87.62408 & 41.88462 & -87.62783 & member\\\\\n",
       "\t A39C6F6CC0586C0B & classic\\_bike  & 2022-01-11 18:48:09 & 2022-01-11 18:51:31 & Wood St \\& Chicago Ave         & 637          & Honore St \\& Division St       & TA1305000034 & 41.89563 & -87.67207 & 41.90312 & -87.67394 & member\\\\\n",
       "\\end{tabular}\n"
      ],
      "text/markdown": [
       "\n",
       "A tibble: 6 × 13\n",
       "\n",
       "| ride_id &lt;chr&gt; | rideable_type &lt;chr&gt; | started_at &lt;dttm&gt; | ended_at &lt;dttm&gt; | start_station_name &lt;chr&gt; | start_station_id &lt;chr&gt; | end_station_name &lt;chr&gt; | end_station_id &lt;chr&gt; | start_lat &lt;dbl&gt; | start_lng &lt;dbl&gt; | end_lat &lt;dbl&gt; | end_lng &lt;dbl&gt; | member_casual &lt;chr&gt; |\n",
       "|---|---|---|---|---|---|---|---|---|---|---|---|---|\n",
       "| C2F7DD78E82EC875 | electric_bike | 2022-01-13 11:59:47 | 2022-01-13 12:02:44 | Glenwood Ave &amp; Touhy Ave      | 525          | Clark St &amp; Touhy Ave          | RP-007       | 42.01280 | -87.66591 | 42.01256 | -87.67437 | casual |\n",
       "| A6CF8980A652D272 | electric_bike | 2022-01-10 08:41:56 | 2022-01-10 08:46:17 | Glenwood Ave &amp; Touhy Ave      | 525          | Clark St &amp; Touhy Ave          | RP-007       | 42.01276 | -87.66597 | 42.01256 | -87.67437 | casual |\n",
       "| BD0F91DFF741C66D | classic_bike  | 2022-01-25 04:53:40 | 2022-01-25 04:58:01 | Sheffield Ave &amp; Fullerton Ave | TA1306000016 | Greenview Ave &amp; Fullerton Ave | TA1307000001 | 41.92560 | -87.65371 | 41.92533 | -87.66580 | member |\n",
       "| CBB80ED419105406 | classic_bike  | 2022-01-04 00:18:04 | 2022-01-04 00:33:00 | Clark St &amp; Bryn Mawr Ave      | KA1504000151 | Paulina St &amp; Montrose Ave     | TA1309000021 | 41.98359 | -87.66915 | 41.96151 | -87.67139 | casual |\n",
       "| DDC963BFDDA51EEA | classic_bike  | 2022-01-20 01:31:10 | 2022-01-20 01:37:12 | Michigan Ave &amp; Jackson Blvd   | TA1309000002 | State St &amp; Randolph St        | TA1305000029 | 41.87785 | -87.62408 | 41.88462 | -87.62783 | member |\n",
       "| A39C6F6CC0586C0B | classic_bike  | 2022-01-11 18:48:09 | 2022-01-11 18:51:31 | Wood St &amp; Chicago Ave         | 637          | Honore St &amp; Division St       | TA1305000034 | 41.89563 | -87.67207 | 41.90312 | -87.67394 | member |\n",
       "\n"
      ],
      "text/plain": [
       "  ride_id          rideable_type started_at          ended_at           \n",
       "1 C2F7DD78E82EC875 electric_bike 2022-01-13 11:59:47 2022-01-13 12:02:44\n",
       "2 A6CF8980A652D272 electric_bike 2022-01-10 08:41:56 2022-01-10 08:46:17\n",
       "3 BD0F91DFF741C66D classic_bike  2022-01-25 04:53:40 2022-01-25 04:58:01\n",
       "4 CBB80ED419105406 classic_bike  2022-01-04 00:18:04 2022-01-04 00:33:00\n",
       "5 DDC963BFDDA51EEA classic_bike  2022-01-20 01:31:10 2022-01-20 01:37:12\n",
       "6 A39C6F6CC0586C0B classic_bike  2022-01-11 18:48:09 2022-01-11 18:51:31\n",
       "  start_station_name            start_station_id end_station_name             \n",
       "1 Glenwood Ave & Touhy Ave      525              Clark St & Touhy Ave         \n",
       "2 Glenwood Ave & Touhy Ave      525              Clark St & Touhy Ave         \n",
       "3 Sheffield Ave & Fullerton Ave TA1306000016     Greenview Ave & Fullerton Ave\n",
       "4 Clark St & Bryn Mawr Ave      KA1504000151     Paulina St & Montrose Ave    \n",
       "5 Michigan Ave & Jackson Blvd   TA1309000002     State St & Randolph St       \n",
       "6 Wood St & Chicago Ave         637              Honore St & Division St      \n",
       "  end_station_id start_lat start_lng end_lat  end_lng   member_casual\n",
       "1 RP-007         42.01280  -87.66591 42.01256 -87.67437 casual       \n",
       "2 RP-007         42.01276  -87.66597 42.01256 -87.67437 casual       \n",
       "3 TA1307000001   41.92560  -87.65371 41.92533 -87.66580 member       \n",
       "4 TA1309000021   41.98359  -87.66915 41.96151 -87.67139 casual       \n",
       "5 TA1305000029   41.87785  -87.62408 41.88462 -87.62783 member       \n",
       "6 TA1305000034   41.89563  -87.67207 41.90312 -87.67394 member       "
      ]
     },
     "metadata": {},
     "output_type": "display_data"
    }
   ],
   "source": [
    "df_22 %>% head()"
   ]
  },
  {
   "cell_type": "code",
   "execution_count": 47,
   "id": "0433c042-c1d4-499f-9bd7-d8336f3add66",
   "metadata": {},
   "outputs": [],
   "source": [
    "### bind 2020, 2021 and 2022 data\n",
    "df_20_22 = rbind(df_20, df_21, df_22)"
   ]
  },
  {
   "cell_type": "code",
   "execution_count": 48,
   "id": "e378d491-ab12-4530-85b4-9956c439c916",
   "metadata": {},
   "outputs": [],
   "source": [
    "\n",
    "df_17 = rename(df_17, c(starttime = start_time, stoptime = end_time))\n"
   ]
  },
  {
   "cell_type": "code",
   "execution_count": 49,
   "id": "1d9e7a8f-f927-4d2d-abdf-a49ebf4bacd3",
   "metadata": {},
   "outputs": [],
   "source": [
    "df_18 = rename(df_18, c(starttime = start_time, stoptime = end_time))\n"
   ]
  },
  {
   "cell_type": "code",
   "execution_count": 50,
   "id": "77b6253e-e49c-4edc-a7f7-b3b923fd0dcf",
   "metadata": {},
   "outputs": [],
   "source": [
    "df_19 = rename(df_19, c(starttime = start_time, stoptime = end_time))"
   ]
  },
  {
   "cell_type": "code",
   "execution_count": 51,
   "id": "1e11e188-8083-4d85-89eb-fcd34f848490",
   "metadata": {},
   "outputs": [
    {
     "name": "stdout",
     "output_type": "stream",
     "text": [
      "Rows: 3,829,014\n",
      "Columns: 12\n",
      "$ trip_id           \u001b[3m\u001b[90m<dbl>\u001b[39m\u001b[23m 13518905, 13518904, 13518903, 13518902, 13518901, 13…\n",
      "$ starttime         \u001b[3m\u001b[90m<chr>\u001b[39m\u001b[23m \"3/31/2017 23:59:07\", \"3/31/2017 23:56:25\", \"3/31/20…\n",
      "$ stoptime          \u001b[3m\u001b[90m<chr>\u001b[39m\u001b[23m \"4/1/2017 00:13:24\", \"4/1/2017 00:00:21\", \"4/1/2017 …\n",
      "$ bikeid            \u001b[3m\u001b[90m<dbl>\u001b[39m\u001b[23m 5292, 4408, 696, 4915, 4247, 3536, 5111, 1579, 3914,…\n",
      "$ tripduration      \u001b[3m\u001b[90m<dbl>\u001b[39m\u001b[23m 857, 236, 348, 288, 415, 242, 361, 354, 299, 1173, 1…\n",
      "$ from_station_id   \u001b[3m\u001b[90m<dbl>\u001b[39m\u001b[23m 66, 199, 520, 110, 327, 143, 81, 56, 210, 117, 117, …\n",
      "$ from_station_name \u001b[3m\u001b[90m<chr>\u001b[39m\u001b[23m \"Clinton St & Lake St\", \"Wabash Ave & Grand Ave\", \"G…\n",
      "$ to_station_id     \u001b[3m\u001b[90m<dbl>\u001b[39m\u001b[23m 171, 26, 432, 142, 331, 289, 41, 77, 69, 29, 29, 303…\n",
      "$ to_station_name   \u001b[3m\u001b[90m<chr>\u001b[39m\u001b[23m \"May St & Cullerton St\", \"McClurg Ct & Illinois St\",…\n",
      "$ usertype          \u001b[3m\u001b[90m<chr>\u001b[39m\u001b[23m \"Subscriber\", \"Subscriber\", \"Subscriber\", \"Subscribe…\n",
      "$ gender            \u001b[3m\u001b[90m<chr>\u001b[39m\u001b[23m \"Male\", \"Male\", \"Female\", \"Male\", \"Female\", \"Male\", …\n",
      "$ birthyear         \u001b[3m\u001b[90m<dbl>\u001b[39m\u001b[23m 1989, 1990, 1979, 1985, 1989, 1988, 1987, 1981, 1992…\n"
     ]
    }
   ],
   "source": [
    "glimpse(df_17)"
   ]
  },
  {
   "cell_type": "code",
   "execution_count": null,
   "id": "fa9d316a-6c19-4510-9591-b4657dfa5959",
   "metadata": {},
   "outputs": [],
   "source": [
    "###CONNECT TO SQL AND SEND TABLES TO POSTGRES DB"
   ]
  },
  {
   "cell_type": "code",
   "execution_count": 52,
   "id": "ab553450-381c-42dc-871c-ceeb68615e36",
   "metadata": {},
   "outputs": [
    {
     "name": "stderr",
     "output_type": "stream",
     "text": [
      "Loading required package: DBI\n",
      "\n",
      "Loading required package: usethis\n",
      "\n",
      "\n",
      "Attaching package: 'remotes'\n",
      "\n",
      "\n",
      "The following objects are masked from 'package:devtools':\n",
      "\n",
      "    dev_package_deps, install_bioc, install_bitbucket, install_cran,\n",
      "    install_deps, install_dev, install_git, install_github,\n",
      "    install_gitlab, install_local, install_svn, install_url,\n",
      "    install_version, update_packages\n",
      "\n",
      "\n",
      "The following object is masked from 'package:usethis':\n",
      "\n",
      "    git_credentials\n",
      "\n",
      "\n"
     ]
    }
   ],
   "source": [
    "library(RPostgreSQL)\n",
    "library(RPostgres)\n",
    "library(devtools)\n",
    "library(remotes)"
   ]
  },
  {
   "cell_type": "code",
   "execution_count": 53,
   "id": "65cfc9f7-06de-4890-bb5c-659ff6213e38",
   "metadata": {},
   "outputs": [],
   "source": [
    "library(DBI)\n",
    "\n",
    "db <- 'bikeshare_db'  #provide the name of your db\n",
    "\n",
    "host_db <- 'localhost' #i.e. # i.e. 'ec2-54-83-201-96.compute-1.amazonaws.com'  \n",
    "\n",
    "db_port <- '5432'  # or any other port specified by the DBA\n",
    "\n",
    "db_user <- 'postgres'  \n",
    "\n",
    "db_password <- '4156'\n",
    "\n",
    "con <- dbConnect(RPostgres::Postgres(), dbname = db, host=host_db, port=db_port, user=db_user, password=db_password) "
   ]
  },
  {
   "cell_type": "code",
   "execution_count": 54,
   "id": "6a301ef9-87c7-4631-98e0-7f49e4a6df7e",
   "metadata": {},
   "outputs": [
    {
     "data": {
      "text/html": [],
      "text/latex": [],
      "text/markdown": [],
      "text/plain": [
       "character(0)"
      ]
     },
     "metadata": {},
     "output_type": "display_data"
    }
   ],
   "source": [
    "dbListTables(con) "
   ]
  },
  {
   "cell_type": "code",
   "execution_count": 55,
   "id": "fa776cad-1201-4a3e-b6c8-6579f0268151",
   "metadata": {},
   "outputs": [],
   "source": [
    "dbWriteTable(con, \"df_13\", df_13)"
   ]
  },
  {
   "cell_type": "code",
   "execution_count": 57,
   "id": "a9270b57-fce3-4ba8-a830-c28dcdd75aa8",
   "metadata": {},
   "outputs": [],
   "source": [
    "dbWriteTable(con, \"df_14\", df_14)"
   ]
  },
  {
   "cell_type": "code",
   "execution_count": 58,
   "id": "5c242e73-96ee-49db-811c-6631ff53a382",
   "metadata": {},
   "outputs": [],
   "source": [
    "dbWriteTable(con, \"df_15\", df_15)"
   ]
  },
  {
   "cell_type": "code",
   "execution_count": 59,
   "id": "1c4210d1-34fb-48df-a827-47d589294182",
   "metadata": {},
   "outputs": [],
   "source": [
    "dbWriteTable(con, \"df_16\", df_16)"
   ]
  },
  {
   "cell_type": "code",
   "execution_count": 60,
   "id": "5e9aea3e-c6a1-44f3-a4ac-030e56ef9603",
   "metadata": {},
   "outputs": [],
   "source": [
    "dbWriteTable(con, \"df_17\", df_17)"
   ]
  },
  {
   "cell_type": "code",
   "execution_count": 61,
   "id": "f5ab2dde-5d60-4d07-8f47-c9799308fd2a",
   "metadata": {},
   "outputs": [],
   "source": [
    "dbWriteTable(con, \"df_18\", df_18)"
   ]
  },
  {
   "cell_type": "code",
   "execution_count": 62,
   "id": "73880f68-cb59-4393-a840-9e22cd2af050",
   "metadata": {},
   "outputs": [],
   "source": [
    "dbWriteTable(con, \"df_19\", df_19)"
   ]
  },
  {
   "cell_type": "code",
   "execution_count": 63,
   "id": "3f17397b-59c5-45b3-b5e9-6716d1f4ae19",
   "metadata": {},
   "outputs": [],
   "source": [
    "dbWriteTable(con, \"df_20_22\", df_20_22)"
   ]
  }
 ],
 "metadata": {
  "kernelspec": {
   "display_name": "R",
   "language": "R",
   "name": "ir"
  },
  "language_info": {
   "codemirror_mode": "r",
   "file_extension": ".r",
   "mimetype": "text/x-r-source",
   "name": "R",
   "pygments_lexer": "r",
   "version": "4.2.0"
  }
 },
 "nbformat": 4,
 "nbformat_minor": 5
}
