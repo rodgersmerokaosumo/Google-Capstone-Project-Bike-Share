{
 "cells": [
  {
   "cell_type": "code",
   "execution_count": 31,
   "id": "21ed11d1-93ff-4f9e-8246-d9935252f211",
   "metadata": {},
   "outputs": [],
   "source": [
    "library(RPostgreSQL)\n",
    "library(RPostgres)\n",
    "library(devtools)\n",
    "library(remotes)"
   ]
  },
  {
   "cell_type": "code",
   "execution_count": 33,
   "id": "10d3b4ec-006c-4811-a647-1eeda2e6b39a",
   "metadata": {},
   "outputs": [],
   "source": [
    "library(DBI)\n",
    "\n",
    "db <- 'bikeshare_db'  #provide the name of your db\n",
    "\n",
    "host_db <- 'localhost' #i.e. # i.e. 'ec2-54-83-201-96.compute-1.amazonaws.com'  \n",
    "\n",
    "db_port <- '5432'  # or any other port specified by the DBA\n",
    "\n",
    "db_user <- 'postgres'  \n",
    "\n",
    "db_password <- '4156'\n",
    "\n",
    "con <- dbConnect(RPostgres::Postgres(), dbname = db, host=host_db, port=db_port, user=db_user, password=db_password) "
   ]
  },
  {
   "cell_type": "code",
   "execution_count": 34,
   "id": "a5be1723-53c4-4f24-8f6d-99fbeaf80088",
   "metadata": {},
   "outputs": [
    {
     "data": {
      "text/html": [],
      "text/latex": [],
      "text/markdown": [],
      "text/plain": [
       "character(0)"
      ]
     },
     "metadata": {},
     "output_type": "display_data"
    }
   ],
   "source": [
    "dbListTables(con) "
   ]
  },
  {
   "cell_type": "code",
   "execution_count": null,
   "id": "5060a567-5bc7-4dfc-bb5f-b492ac77293f",
   "metadata": {},
   "outputs": [],
   "source": []
  }
 ],
 "metadata": {
  "kernelspec": {
   "display_name": "R",
   "language": "R",
   "name": "ir"
  },
  "language_info": {
   "codemirror_mode": "r",
   "file_extension": ".r",
   "mimetype": "text/x-r-source",
   "name": "R",
   "pygments_lexer": "r",
   "version": "4.2.0"
  }
 },
 "nbformat": 4,
 "nbformat_minor": 5
}
